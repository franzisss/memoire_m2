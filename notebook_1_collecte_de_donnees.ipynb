{
  "cells": [
    {
      "cell_type": "markdown",
      "source": [
        "**Notebook 1 : scrapping des discours YouTube :**\n",
        "\n",
        "Ce notebook scrappe les sous-titres générés automatiquement par YouTube, grâce à la librairie youtube-transcript-api. J'ai réalisé ce notebook sur google colab."
      ],
      "metadata": {
        "id": "kHh7nycD4QM7"
      }
    },
    {
      "cell_type": "markdown",
      "metadata": {
        "id": "YWmc9Ii2n9Ff"
      },
      "source": [
        "je commence par faire des importations de librairies et packages."
      ]
    },
    {
      "cell_type": "code",
      "execution_count": 1,
      "metadata": {
        "id": "GUrBZPz-MGWl"
      },
      "outputs": [],
      "source": [
        "import pandas as pd\n",
        "import os"
      ]
    },
    {
      "cell_type": "code",
      "source": [
        "!pip install youtube-transcript-api\n"
      ],
      "metadata": {
        "colab": {
          "base_uri": "https://localhost:8080/"
        },
        "id": "0TvYCJQ-eF2o",
        "outputId": "e67dfb11-5753-47e4-fc01-3c5e5d41bcb0"
      },
      "execution_count": 2,
      "outputs": [
        {
          "output_type": "stream",
          "name": "stdout",
          "text": [
            "Collecting youtube-transcript-api\n",
            "  Downloading youtube_transcript_api-1.2.1-py3-none-any.whl.metadata (24 kB)\n",
            "Requirement already satisfied: defusedxml<0.8.0,>=0.7.1 in /usr/local/lib/python3.11/dist-packages (from youtube-transcript-api) (0.7.1)\n",
            "Requirement already satisfied: requests in /usr/local/lib/python3.11/dist-packages (from youtube-transcript-api) (2.32.3)\n",
            "Requirement already satisfied: charset-normalizer<4,>=2 in /usr/local/lib/python3.11/dist-packages (from requests->youtube-transcript-api) (3.4.2)\n",
            "Requirement already satisfied: idna<4,>=2.5 in /usr/local/lib/python3.11/dist-packages (from requests->youtube-transcript-api) (3.10)\n",
            "Requirement already satisfied: urllib3<3,>=1.21.1 in /usr/local/lib/python3.11/dist-packages (from requests->youtube-transcript-api) (2.5.0)\n",
            "Requirement already satisfied: certifi>=2017.4.17 in /usr/local/lib/python3.11/dist-packages (from requests->youtube-transcript-api) (2025.7.14)\n",
            "Downloading youtube_transcript_api-1.2.1-py3-none-any.whl (484 kB)\n",
            "\u001b[2K   \u001b[90m━━━━━━━━━━━━━━━━━━━━━━━━━━━━━━━━━━━━━━━━\u001b[0m \u001b[32m484.6/484.6 kB\u001b[0m \u001b[31m15.5 MB/s\u001b[0m eta \u001b[36m0:00:00\u001b[0m\n",
            "\u001b[?25hInstalling collected packages: youtube-transcript-api\n",
            "Successfully installed youtube-transcript-api-1.2.1\n"
          ]
        }
      ]
    },
    {
      "cell_type": "code",
      "source": [
        "import pandas as pd\n",
        "from youtube_transcript_api import YouTubeTranscriptApi\n",
        "from google.colab import files\n"
      ],
      "metadata": {
        "id": "LFGtVMRZ67Op"
      },
      "execution_count": 3,
      "outputs": []
    },
    {
      "cell_type": "markdown",
      "source": [
        "La cellule suivante créé une boucle qui prend en entrée une liste d'ID de vidéo YouTube, et extrait les sous-titres de chaque vidéo. La boucle télécharge directement le fichier en format txt (à faire tourner sur colab). On peut modifier le titre avec l'objet mon_fichier.\n",
        "\n",
        "Note : l'Id d'une vidéo est la fin de son url, les caractères placés après \"v=\".\n",
        "exemple : si l'url de la vidéo est : https://www.youtube.com/watch?v=_dlNkdF_IyE, son url est : '_dlNkdF_IyE'.\n",
        "\n",
        "La boucle suivante est appelée dans la même cellule de code, et télécharge dans l'espace de travail colab le fichier généré."
      ],
      "metadata": {
        "id": "a37iKiZC4sLR"
      }
    },
    {
      "cell_type": "code",
      "source": [
        "def transcrire_et_enregistrer(video_id, langue='fr'):\n",
        "    \"\"\"\n",
        "    Récupère la transcription d'une vidéo YouTube dans la langue spécifiée,\n",
        "    et l'enregistre dans un fichier texte.\n",
        "    \"\"\"\n",
        "    try:\n",
        "        # Instancie l’API et récupère la transcription dans la langue souhaitée\n",
        "        ytt = YouTubeTranscriptApi()\n",
        "        transcript = ytt.fetch(video_id, languages=[langue])\n",
        "\n",
        "        # transcript est un objet FetchedTranscript itérable\n",
        "        texte = ' '.join(snippet.text for snippet in transcript)\n",
        "\n",
        "        # Enregistrer dans un fichier .txt\n",
        "        nom_fichier = f\"le_reveilleur_le_role_de_la_vapeau_d_eau.txt\"\n",
        "        with open(nom_fichier, 'w', encoding='utf-8') as f:\n",
        "            f.write(texte)\n",
        "\n",
        "        print(f\"Transcription enregistrée : {nom_fichier}\")\n",
        "        return nom_fichier\n",
        "\n",
        "    except Exception as e:\n",
        "        print(f\"Erreur pour la vidéo {video_id} : {e}\")\n",
        "        return None\n",
        "\n",
        "video_id = \"cN_QaUxRsaw\"\n",
        "fichier = transcrire_et_enregistrer(video_id, langue='fr')\n"
      ],
      "metadata": {
        "colab": {
          "base_uri": "https://localhost:8080/"
        },
        "id": "BgKvr2jrOO5o",
        "outputId": "b3b7adc0-ed7b-4355-84c3-342e079616b3"
      },
      "execution_count": 33,
      "outputs": [
        {
          "output_type": "stream",
          "name": "stdout",
          "text": [
            "Transcription enregistrée : le_reveilleur_le_role_de_la_vapeau_d_eau.txt\n"
          ]
        }
      ]
    }
  ],
  "metadata": {
    "colab": {
      "provenance": []
    },
    "kernelspec": {
      "display_name": "mon_env",
      "language": "python",
      "name": "mon_env"
    },
    "language_info": {
      "codemirror_mode": {
        "name": "ipython",
        "version": 3
      },
      "file_extension": ".py",
      "mimetype": "text/x-python",
      "name": "python",
      "nbconvert_exporter": "python",
      "pygments_lexer": "ipython3",
      "version": "3.12.1"
    }
  },
  "nbformat": 4,
  "nbformat_minor": 0
}