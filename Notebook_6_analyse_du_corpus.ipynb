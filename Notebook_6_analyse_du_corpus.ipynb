{
  "nbformat": 4,
  "nbformat_minor": 0,
  "metadata": {
    "colab": {
      "provenance": []
    },
    "kernelspec": {
      "name": "python3",
      "display_name": "Python 3"
    },
    "language_info": {
      "name": "python"
    }
  },
  "cells": [
    {
      "cell_type": "markdown",
      "source": [
        "Ce notebook est le dernier du processus de traitement des données.\n",
        "Il permet de réaliser différentes analyses statistiques sur les données du corpus, préalablement automomatiquement annotées, ainsi que sur les données du coprus témoin. Le notebook comprend diverses analyses comme le calcul de moyennes, ou encore la production de nombreuses figures, tableaux et graphiques.\n",
        "\n",
        "Ce notebook a été produit dans Google colab."
      ],
      "metadata": {
        "id": "VIfuCP5iebC_"
      }
    },
    {
      "cell_type": "code",
      "execution_count": 2,
      "metadata": {
        "id": "8KU41cLGPO6V"
      },
      "outputs": [],
      "source": [
        "import pandas as pd"
      ]
    },
    {
      "cell_type": "code",
      "source": [
        "import matplotlib.pyplot as plt\n",
        "import numpy as np\n",
        "from scipy.interpolate import make_interp_spline\n",
        "from scipy.ndimage import gaussian_filter1d\n",
        "from scipy.interpolate import UnivariateSpline\n",
        "from scipy.signal import medfilt"
      ],
      "metadata": {
        "id": "_QnQvMLzDl73"
      },
      "execution_count": 51,
      "outputs": []
    },
    {
      "cell_type": "markdown",
      "source": [
        "On commence par renseigner puis importer les chemins des deux fichiers csv :"
      ],
      "metadata": {
        "id": "hg-4vJa4lC1y"
      }
    },
    {
      "cell_type": "code",
      "source": [
        "mon_fichier_path = '/content/annos_emo_expert_vdef.csv'\n",
        "mon_fichier_temoin_path = '/content/fichier_complet_temoin.csv'"
      ],
      "metadata": {
        "id": "a9z_q0rUPnxQ"
      },
      "execution_count": 1,
      "outputs": []
    },
    {
      "cell_type": "code",
      "source": [
        "mon_fichier = pd.read_csv(mon_fichier_path, on_bad_lines='skip')\n",
        "mon_fichier_temoin = pd.read_csv(mon_fichier_temoin_path, on_bad_lines='skip')\n",
        "\n",
        "mon_fichier"
      ],
      "metadata": {
        "id": "8ZzX24P2PxvN",
        "colab": {
          "base_uri": "https://localhost:8080/",
          "height": 1000
        },
        "outputId": "b6dd6013-87dd-4cb5-85da-b55bb401448d"
      },
      "execution_count": 3,
      "outputs": [
        {
          "output_type": "execute_result",
          "data": {
            "text/plain": [
              "      Unnamed: 0                                           title  \\\n",
              "0              0   climat_corona_et_caetera_henri_de_lesquen.txt   \n",
              "1              1   climat_corona_et_caetera_henri_de_lesquen.txt   \n",
              "2              2   climat_corona_et_caetera_henri_de_lesquen.txt   \n",
              "3              3   climat_corona_et_caetera_henri_de_lesquen.txt   \n",
              "4              4   climat_corona_et_caetera_henri_de_lesquen.txt   \n",
              "...          ...                                             ...   \n",
              "2394        2394  yves_roucaute_sur_cnews_raphael_dragonneau.txt   \n",
              "2395        2395  yves_roucaute_sur_cnews_raphael_dragonneau.txt   \n",
              "2396        2396  yves_roucaute_sur_cnews_raphael_dragonneau.txt   \n",
              "2397        2397  yves_roucaute_sur_cnews_raphael_dragonneau.txt   \n",
              "2398        2398  yves_roucaute_sur_cnews_raphael_dragonneau.txt   \n",
              "\n",
              "                                                content     score  \\\n",
              "0     Je suis fier d'être à la tête d'un grand mouve...  0.407600   \n",
              "1     Le 26 février 2020, le PSG a joué au pied à Ly...  0.684093   \n",
              "2     Le soir même, jeudi 12 mars, sans plus attendr...  0.551490   \n",
              "3     En 2004, c'est encore mieux. De plus en plus f...  0.913224   \n",
              "4     Passons sur le fait que ces statistiques sont ...  0.767427   \n",
              "...                                                 ...       ...   \n",
              "2394  Voici le texte corrigé :\\n\\n\"Par exemple, ils ...  0.961186   \n",
              "2395  Je veux dire, je vais vous donner deux ou troi...  0.812702   \n",
              "2396  Et bien avant la dernière glaciation, donc il ...  0.619478   \n",
              "2397  C'est absolument incroyable, c'est fascinant c...  0.743721   \n",
              "2398  Parce que écologiste, ça vient d'oikos en grec...  0.589650   \n",
              "\n",
              "      score_echelle                                    score_par_label  \\\n",
              "0                 1  sad: 0.3099, fear: 0.0083, anger: 0.4076, neut...   \n",
              "1                 2  sad: 0.1762, fear: 0.0697, anger: 0.6841, neut...   \n",
              "2                 2  sad: 0.4262, fear: 0.0081, anger: 0.5515, neut...   \n",
              "3                 3  sad: 0.0692, fear: 0.0097, anger: 0.9132, neut...   \n",
              "4                 3  sad: 0.2059, fear: 0.0092, anger: 0.7674, neut...   \n",
              "...             ...                                                ...   \n",
              "2394              1  sad: 0.0100, fear: 0.0040, anger: 0.0096, neut...   \n",
              "2395              3  sad: 0.8127, fear: 0.0023, anger: 0.1539, neut...   \n",
              "2396              1  sad: 0.2568, fear: 0.0122, anger: 0.0317, neut...   \n",
              "2397              2  sad: 0.0263, fear: 0.0498, anger: 0.0366, neut...   \n",
              "2398              2  sad: 0.3766, fear: 0.0099, anger: 0.5896, neut...   \n",
              "\n",
              "      sum_without_neutral  sum_recalibree label_dominant  intensite_emotion  \\\n",
              "0                  0.9238        8.679721          anger                  2   \n",
              "1                  0.9687        7.345752          anger                  2   \n",
              "2                  0.9901        5.284120          anger                  2   \n",
              "3                  0.9981        4.022855          anger                  2   \n",
              "4                  0.9894        4.534043          anger                  2   \n",
              "...                   ...             ...            ...                ...   \n",
              "2394               0.0387        0.670930        neutral                  1   \n",
              "2395               0.9707        6.449467            sad                  2   \n",
              "2396               0.3805        4.555210        neutral                  1   \n",
              "2397               0.9264       28.496339       surprise                  3   \n",
              "2398               0.9834        5.212679          anger                  2   \n",
              "\n",
              "     score_vf  expertise_gpt4  \n",
              "0           2             3.0  \n",
              "1           3             3.0  \n",
              "2           3             3.0  \n",
              "3           2             3.0  \n",
              "4           2             3.0  \n",
              "...       ...             ...  \n",
              "2394        1             3.0  \n",
              "2395        2             3.0  \n",
              "2396        1             3.0  \n",
              "2397        3             3.0  \n",
              "2398        2             3.0  \n",
              "\n",
              "[2399 rows x 12 columns]"
            ],
            "text/html": [
              "\n",
              "  <div id=\"df-3931aa64-d56f-4f14-a124-a4aecb762c1b\" class=\"colab-df-container\">\n",
              "    <div>\n",
              "<style scoped>\n",
              "    .dataframe tbody tr th:only-of-type {\n",
              "        vertical-align: middle;\n",
              "    }\n",
              "\n",
              "    .dataframe tbody tr th {\n",
              "        vertical-align: top;\n",
              "    }\n",
              "\n",
              "    .dataframe thead th {\n",
              "        text-align: right;\n",
              "    }\n",
              "</style>\n",
              "<table border=\"1\" class=\"dataframe\">\n",
              "  <thead>\n",
              "    <tr style=\"text-align: right;\">\n",
              "      <th></th>\n",
              "      <th>Unnamed: 0</th>\n",
              "      <th>title</th>\n",
              "      <th>content</th>\n",
              "      <th>score</th>\n",
              "      <th>score_echelle</th>\n",
              "      <th>score_par_label</th>\n",
              "      <th>sum_without_neutral</th>\n",
              "      <th>sum_recalibree</th>\n",
              "      <th>label_dominant</th>\n",
              "      <th>intensite_emotion</th>\n",
              "      <th>score_vf</th>\n",
              "      <th>expertise_gpt4</th>\n",
              "    </tr>\n",
              "  </thead>\n",
              "  <tbody>\n",
              "    <tr>\n",
              "      <th>0</th>\n",
              "      <td>0</td>\n",
              "      <td>climat_corona_et_caetera_henri_de_lesquen.txt</td>\n",
              "      <td>Je suis fier d'être à la tête d'un grand mouve...</td>\n",
              "      <td>0.407600</td>\n",
              "      <td>1</td>\n",
              "      <td>sad: 0.3099, fear: 0.0083, anger: 0.4076, neut...</td>\n",
              "      <td>0.9238</td>\n",
              "      <td>8.679721</td>\n",
              "      <td>anger</td>\n",
              "      <td>2</td>\n",
              "      <td>2</td>\n",
              "      <td>3.0</td>\n",
              "    </tr>\n",
              "    <tr>\n",
              "      <th>1</th>\n",
              "      <td>1</td>\n",
              "      <td>climat_corona_et_caetera_henri_de_lesquen.txt</td>\n",
              "      <td>Le 26 février 2020, le PSG a joué au pied à Ly...</td>\n",
              "      <td>0.684093</td>\n",
              "      <td>2</td>\n",
              "      <td>sad: 0.1762, fear: 0.0697, anger: 0.6841, neut...</td>\n",
              "      <td>0.9687</td>\n",
              "      <td>7.345752</td>\n",
              "      <td>anger</td>\n",
              "      <td>2</td>\n",
              "      <td>3</td>\n",
              "      <td>3.0</td>\n",
              "    </tr>\n",
              "    <tr>\n",
              "      <th>2</th>\n",
              "      <td>2</td>\n",
              "      <td>climat_corona_et_caetera_henri_de_lesquen.txt</td>\n",
              "      <td>Le soir même, jeudi 12 mars, sans plus attendr...</td>\n",
              "      <td>0.551490</td>\n",
              "      <td>2</td>\n",
              "      <td>sad: 0.4262, fear: 0.0081, anger: 0.5515, neut...</td>\n",
              "      <td>0.9901</td>\n",
              "      <td>5.284120</td>\n",
              "      <td>anger</td>\n",
              "      <td>2</td>\n",
              "      <td>3</td>\n",
              "      <td>3.0</td>\n",
              "    </tr>\n",
              "    <tr>\n",
              "      <th>3</th>\n",
              "      <td>3</td>\n",
              "      <td>climat_corona_et_caetera_henri_de_lesquen.txt</td>\n",
              "      <td>En 2004, c'est encore mieux. De plus en plus f...</td>\n",
              "      <td>0.913224</td>\n",
              "      <td>3</td>\n",
              "      <td>sad: 0.0692, fear: 0.0097, anger: 0.9132, neut...</td>\n",
              "      <td>0.9981</td>\n",
              "      <td>4.022855</td>\n",
              "      <td>anger</td>\n",
              "      <td>2</td>\n",
              "      <td>2</td>\n",
              "      <td>3.0</td>\n",
              "    </tr>\n",
              "    <tr>\n",
              "      <th>4</th>\n",
              "      <td>4</td>\n",
              "      <td>climat_corona_et_caetera_henri_de_lesquen.txt</td>\n",
              "      <td>Passons sur le fait que ces statistiques sont ...</td>\n",
              "      <td>0.767427</td>\n",
              "      <td>3</td>\n",
              "      <td>sad: 0.2059, fear: 0.0092, anger: 0.7674, neut...</td>\n",
              "      <td>0.9894</td>\n",
              "      <td>4.534043</td>\n",
              "      <td>anger</td>\n",
              "      <td>2</td>\n",
              "      <td>2</td>\n",
              "      <td>3.0</td>\n",
              "    </tr>\n",
              "    <tr>\n",
              "      <th>...</th>\n",
              "      <td>...</td>\n",
              "      <td>...</td>\n",
              "      <td>...</td>\n",
              "      <td>...</td>\n",
              "      <td>...</td>\n",
              "      <td>...</td>\n",
              "      <td>...</td>\n",
              "      <td>...</td>\n",
              "      <td>...</td>\n",
              "      <td>...</td>\n",
              "      <td>...</td>\n",
              "      <td>...</td>\n",
              "    </tr>\n",
              "    <tr>\n",
              "      <th>2394</th>\n",
              "      <td>2394</td>\n",
              "      <td>yves_roucaute_sur_cnews_raphael_dragonneau.txt</td>\n",
              "      <td>Voici le texte corrigé :\\n\\n\"Par exemple, ils ...</td>\n",
              "      <td>0.961186</td>\n",
              "      <td>1</td>\n",
              "      <td>sad: 0.0100, fear: 0.0040, anger: 0.0096, neut...</td>\n",
              "      <td>0.0387</td>\n",
              "      <td>0.670930</td>\n",
              "      <td>neutral</td>\n",
              "      <td>1</td>\n",
              "      <td>1</td>\n",
              "      <td>3.0</td>\n",
              "    </tr>\n",
              "    <tr>\n",
              "      <th>2395</th>\n",
              "      <td>2395</td>\n",
              "      <td>yves_roucaute_sur_cnews_raphael_dragonneau.txt</td>\n",
              "      <td>Je veux dire, je vais vous donner deux ou troi...</td>\n",
              "      <td>0.812702</td>\n",
              "      <td>3</td>\n",
              "      <td>sad: 0.8127, fear: 0.0023, anger: 0.1539, neut...</td>\n",
              "      <td>0.9707</td>\n",
              "      <td>6.449467</td>\n",
              "      <td>sad</td>\n",
              "      <td>2</td>\n",
              "      <td>2</td>\n",
              "      <td>3.0</td>\n",
              "    </tr>\n",
              "    <tr>\n",
              "      <th>2396</th>\n",
              "      <td>2396</td>\n",
              "      <td>yves_roucaute_sur_cnews_raphael_dragonneau.txt</td>\n",
              "      <td>Et bien avant la dernière glaciation, donc il ...</td>\n",
              "      <td>0.619478</td>\n",
              "      <td>1</td>\n",
              "      <td>sad: 0.2568, fear: 0.0122, anger: 0.0317, neut...</td>\n",
              "      <td>0.3805</td>\n",
              "      <td>4.555210</td>\n",
              "      <td>neutral</td>\n",
              "      <td>1</td>\n",
              "      <td>1</td>\n",
              "      <td>3.0</td>\n",
              "    </tr>\n",
              "    <tr>\n",
              "      <th>2397</th>\n",
              "      <td>2397</td>\n",
              "      <td>yves_roucaute_sur_cnews_raphael_dragonneau.txt</td>\n",
              "      <td>C'est absolument incroyable, c'est fascinant c...</td>\n",
              "      <td>0.743721</td>\n",
              "      <td>2</td>\n",
              "      <td>sad: 0.0263, fear: 0.0498, anger: 0.0366, neut...</td>\n",
              "      <td>0.9264</td>\n",
              "      <td>28.496339</td>\n",
              "      <td>surprise</td>\n",
              "      <td>3</td>\n",
              "      <td>3</td>\n",
              "      <td>3.0</td>\n",
              "    </tr>\n",
              "    <tr>\n",
              "      <th>2398</th>\n",
              "      <td>2398</td>\n",
              "      <td>yves_roucaute_sur_cnews_raphael_dragonneau.txt</td>\n",
              "      <td>Parce que écologiste, ça vient d'oikos en grec...</td>\n",
              "      <td>0.589650</td>\n",
              "      <td>2</td>\n",
              "      <td>sad: 0.3766, fear: 0.0099, anger: 0.5896, neut...</td>\n",
              "      <td>0.9834</td>\n",
              "      <td>5.212679</td>\n",
              "      <td>anger</td>\n",
              "      <td>2</td>\n",
              "      <td>2</td>\n",
              "      <td>3.0</td>\n",
              "    </tr>\n",
              "  </tbody>\n",
              "</table>\n",
              "<p>2399 rows × 12 columns</p>\n",
              "</div>\n",
              "    <div class=\"colab-df-buttons\">\n",
              "\n",
              "  <div class=\"colab-df-container\">\n",
              "    <button class=\"colab-df-convert\" onclick=\"convertToInteractive('df-3931aa64-d56f-4f14-a124-a4aecb762c1b')\"\n",
              "            title=\"Convert this dataframe to an interactive table.\"\n",
              "            style=\"display:none;\">\n",
              "\n",
              "  <svg xmlns=\"http://www.w3.org/2000/svg\" height=\"24px\" viewBox=\"0 -960 960 960\">\n",
              "    <path d=\"M120-120v-720h720v720H120Zm60-500h600v-160H180v160Zm220 220h160v-160H400v160Zm0 220h160v-160H400v160ZM180-400h160v-160H180v160Zm440 0h160v-160H620v160ZM180-180h160v-160H180v160Zm440 0h160v-160H620v160Z\"/>\n",
              "  </svg>\n",
              "    </button>\n",
              "\n",
              "  <style>\n",
              "    .colab-df-container {\n",
              "      display:flex;\n",
              "      gap: 12px;\n",
              "    }\n",
              "\n",
              "    .colab-df-convert {\n",
              "      background-color: #E8F0FE;\n",
              "      border: none;\n",
              "      border-radius: 50%;\n",
              "      cursor: pointer;\n",
              "      display: none;\n",
              "      fill: #1967D2;\n",
              "      height: 32px;\n",
              "      padding: 0 0 0 0;\n",
              "      width: 32px;\n",
              "    }\n",
              "\n",
              "    .colab-df-convert:hover {\n",
              "      background-color: #E2EBFA;\n",
              "      box-shadow: 0px 1px 2px rgba(60, 64, 67, 0.3), 0px 1px 3px 1px rgba(60, 64, 67, 0.15);\n",
              "      fill: #174EA6;\n",
              "    }\n",
              "\n",
              "    .colab-df-buttons div {\n",
              "      margin-bottom: 4px;\n",
              "    }\n",
              "\n",
              "    [theme=dark] .colab-df-convert {\n",
              "      background-color: #3B4455;\n",
              "      fill: #D2E3FC;\n",
              "    }\n",
              "\n",
              "    [theme=dark] .colab-df-convert:hover {\n",
              "      background-color: #434B5C;\n",
              "      box-shadow: 0px 1px 3px 1px rgba(0, 0, 0, 0.15);\n",
              "      filter: drop-shadow(0px 1px 2px rgba(0, 0, 0, 0.3));\n",
              "      fill: #FFFFFF;\n",
              "    }\n",
              "  </style>\n",
              "\n",
              "    <script>\n",
              "      const buttonEl =\n",
              "        document.querySelector('#df-3931aa64-d56f-4f14-a124-a4aecb762c1b button.colab-df-convert');\n",
              "      buttonEl.style.display =\n",
              "        google.colab.kernel.accessAllowed ? 'block' : 'none';\n",
              "\n",
              "      async function convertToInteractive(key) {\n",
              "        const element = document.querySelector('#df-3931aa64-d56f-4f14-a124-a4aecb762c1b');\n",
              "        const dataTable =\n",
              "          await google.colab.kernel.invokeFunction('convertToInteractive',\n",
              "                                                    [key], {});\n",
              "        if (!dataTable) return;\n",
              "\n",
              "        const docLinkHtml = 'Like what you see? Visit the ' +\n",
              "          '<a target=\"_blank\" href=https://colab.research.google.com/notebooks/data_table.ipynb>data table notebook</a>'\n",
              "          + ' to learn more about interactive tables.';\n",
              "        element.innerHTML = '';\n",
              "        dataTable['output_type'] = 'display_data';\n",
              "        await google.colab.output.renderOutput(dataTable, element);\n",
              "        const docLink = document.createElement('div');\n",
              "        docLink.innerHTML = docLinkHtml;\n",
              "        element.appendChild(docLink);\n",
              "      }\n",
              "    </script>\n",
              "  </div>\n",
              "\n",
              "\n",
              "    <div id=\"df-5ea7bfcb-8cb1-4ad6-b4fd-bf3e3ef529f4\">\n",
              "      <button class=\"colab-df-quickchart\" onclick=\"quickchart('df-5ea7bfcb-8cb1-4ad6-b4fd-bf3e3ef529f4')\"\n",
              "                title=\"Suggest charts\"\n",
              "                style=\"display:none;\">\n",
              "\n",
              "<svg xmlns=\"http://www.w3.org/2000/svg\" height=\"24px\"viewBox=\"0 0 24 24\"\n",
              "     width=\"24px\">\n",
              "    <g>\n",
              "        <path d=\"M19 3H5c-1.1 0-2 .9-2 2v14c0 1.1.9 2 2 2h14c1.1 0 2-.9 2-2V5c0-1.1-.9-2-2-2zM9 17H7v-7h2v7zm4 0h-2V7h2v10zm4 0h-2v-4h2v4z\"/>\n",
              "    </g>\n",
              "</svg>\n",
              "      </button>\n",
              "\n",
              "<style>\n",
              "  .colab-df-quickchart {\n",
              "      --bg-color: #E8F0FE;\n",
              "      --fill-color: #1967D2;\n",
              "      --hover-bg-color: #E2EBFA;\n",
              "      --hover-fill-color: #174EA6;\n",
              "      --disabled-fill-color: #AAA;\n",
              "      --disabled-bg-color: #DDD;\n",
              "  }\n",
              "\n",
              "  [theme=dark] .colab-df-quickchart {\n",
              "      --bg-color: #3B4455;\n",
              "      --fill-color: #D2E3FC;\n",
              "      --hover-bg-color: #434B5C;\n",
              "      --hover-fill-color: #FFFFFF;\n",
              "      --disabled-bg-color: #3B4455;\n",
              "      --disabled-fill-color: #666;\n",
              "  }\n",
              "\n",
              "  .colab-df-quickchart {\n",
              "    background-color: var(--bg-color);\n",
              "    border: none;\n",
              "    border-radius: 50%;\n",
              "    cursor: pointer;\n",
              "    display: none;\n",
              "    fill: var(--fill-color);\n",
              "    height: 32px;\n",
              "    padding: 0;\n",
              "    width: 32px;\n",
              "  }\n",
              "\n",
              "  .colab-df-quickchart:hover {\n",
              "    background-color: var(--hover-bg-color);\n",
              "    box-shadow: 0 1px 2px rgba(60, 64, 67, 0.3), 0 1px 3px 1px rgba(60, 64, 67, 0.15);\n",
              "    fill: var(--button-hover-fill-color);\n",
              "  }\n",
              "\n",
              "  .colab-df-quickchart-complete:disabled,\n",
              "  .colab-df-quickchart-complete:disabled:hover {\n",
              "    background-color: var(--disabled-bg-color);\n",
              "    fill: var(--disabled-fill-color);\n",
              "    box-shadow: none;\n",
              "  }\n",
              "\n",
              "  .colab-df-spinner {\n",
              "    border: 2px solid var(--fill-color);\n",
              "    border-color: transparent;\n",
              "    border-bottom-color: var(--fill-color);\n",
              "    animation:\n",
              "      spin 1s steps(1) infinite;\n",
              "  }\n",
              "\n",
              "  @keyframes spin {\n",
              "    0% {\n",
              "      border-color: transparent;\n",
              "      border-bottom-color: var(--fill-color);\n",
              "      border-left-color: var(--fill-color);\n",
              "    }\n",
              "    20% {\n",
              "      border-color: transparent;\n",
              "      border-left-color: var(--fill-color);\n",
              "      border-top-color: var(--fill-color);\n",
              "    }\n",
              "    30% {\n",
              "      border-color: transparent;\n",
              "      border-left-color: var(--fill-color);\n",
              "      border-top-color: var(--fill-color);\n",
              "      border-right-color: var(--fill-color);\n",
              "    }\n",
              "    40% {\n",
              "      border-color: transparent;\n",
              "      border-right-color: var(--fill-color);\n",
              "      border-top-color: var(--fill-color);\n",
              "    }\n",
              "    60% {\n",
              "      border-color: transparent;\n",
              "      border-right-color: var(--fill-color);\n",
              "    }\n",
              "    80% {\n",
              "      border-color: transparent;\n",
              "      border-right-color: var(--fill-color);\n",
              "      border-bottom-color: var(--fill-color);\n",
              "    }\n",
              "    90% {\n",
              "      border-color: transparent;\n",
              "      border-bottom-color: var(--fill-color);\n",
              "    }\n",
              "  }\n",
              "</style>\n",
              "\n",
              "      <script>\n",
              "        async function quickchart(key) {\n",
              "          const quickchartButtonEl =\n",
              "            document.querySelector('#' + key + ' button');\n",
              "          quickchartButtonEl.disabled = true;  // To prevent multiple clicks.\n",
              "          quickchartButtonEl.classList.add('colab-df-spinner');\n",
              "          try {\n",
              "            const charts = await google.colab.kernel.invokeFunction(\n",
              "                'suggestCharts', [key], {});\n",
              "          } catch (error) {\n",
              "            console.error('Error during call to suggestCharts:', error);\n",
              "          }\n",
              "          quickchartButtonEl.classList.remove('colab-df-spinner');\n",
              "          quickchartButtonEl.classList.add('colab-df-quickchart-complete');\n",
              "        }\n",
              "        (() => {\n",
              "          let quickchartButtonEl =\n",
              "            document.querySelector('#df-5ea7bfcb-8cb1-4ad6-b4fd-bf3e3ef529f4 button');\n",
              "          quickchartButtonEl.style.display =\n",
              "            google.colab.kernel.accessAllowed ? 'block' : 'none';\n",
              "        })();\n",
              "      </script>\n",
              "    </div>\n",
              "\n",
              "  <div id=\"id_868ffc1a-2c6d-4bad-b385-9cf078edc91b\">\n",
              "    <style>\n",
              "      .colab-df-generate {\n",
              "        background-color: #E8F0FE;\n",
              "        border: none;\n",
              "        border-radius: 50%;\n",
              "        cursor: pointer;\n",
              "        display: none;\n",
              "        fill: #1967D2;\n",
              "        height: 32px;\n",
              "        padding: 0 0 0 0;\n",
              "        width: 32px;\n",
              "      }\n",
              "\n",
              "      .colab-df-generate:hover {\n",
              "        background-color: #E2EBFA;\n",
              "        box-shadow: 0px 1px 2px rgba(60, 64, 67, 0.3), 0px 1px 3px 1px rgba(60, 64, 67, 0.15);\n",
              "        fill: #174EA6;\n",
              "      }\n",
              "\n",
              "      [theme=dark] .colab-df-generate {\n",
              "        background-color: #3B4455;\n",
              "        fill: #D2E3FC;\n",
              "      }\n",
              "\n",
              "      [theme=dark] .colab-df-generate:hover {\n",
              "        background-color: #434B5C;\n",
              "        box-shadow: 0px 1px 3px 1px rgba(0, 0, 0, 0.15);\n",
              "        filter: drop-shadow(0px 1px 2px rgba(0, 0, 0, 0.3));\n",
              "        fill: #FFFFFF;\n",
              "      }\n",
              "    </style>\n",
              "    <button class=\"colab-df-generate\" onclick=\"generateWithVariable('mon_fichier')\"\n",
              "            title=\"Generate code using this dataframe.\"\n",
              "            style=\"display:none;\">\n",
              "\n",
              "  <svg xmlns=\"http://www.w3.org/2000/svg\" height=\"24px\"viewBox=\"0 0 24 24\"\n",
              "       width=\"24px\">\n",
              "    <path d=\"M7,19H8.4L18.45,9,17,7.55,7,17.6ZM5,21V16.75L18.45,3.32a2,2,0,0,1,2.83,0l1.4,1.43a1.91,1.91,0,0,1,.58,1.4,1.91,1.91,0,0,1-.58,1.4L9.25,21ZM18.45,9,17,7.55Zm-12,3A5.31,5.31,0,0,0,4.9,8.1,5.31,5.31,0,0,0,1,6.5,5.31,5.31,0,0,0,4.9,4.9,5.31,5.31,0,0,0,6.5,1,5.31,5.31,0,0,0,8.1,4.9,5.31,5.31,0,0,0,12,6.5,5.46,5.46,0,0,0,6.5,12Z\"/>\n",
              "  </svg>\n",
              "    </button>\n",
              "    <script>\n",
              "      (() => {\n",
              "      const buttonEl =\n",
              "        document.querySelector('#id_868ffc1a-2c6d-4bad-b385-9cf078edc91b button.colab-df-generate');\n",
              "      buttonEl.style.display =\n",
              "        google.colab.kernel.accessAllowed ? 'block' : 'none';\n",
              "\n",
              "      buttonEl.onclick = () => {\n",
              "        google.colab.notebook.generateWithVariable('mon_fichier');\n",
              "      }\n",
              "      })();\n",
              "    </script>\n",
              "  </div>\n",
              "\n",
              "    </div>\n",
              "  </div>\n"
            ],
            "application/vnd.google.colaboratory.intrinsic+json": {
              "type": "dataframe",
              "variable_name": "mon_fichier",
              "summary": "{\n  \"name\": \"mon_fichier\",\n  \"rows\": 2399,\n  \"fields\": [\n    {\n      \"column\": \"Unnamed: 0\",\n      \"properties\": {\n        \"dtype\": \"number\",\n        \"std\": 692,\n        \"min\": 0,\n        \"max\": 2398,\n        \"num_unique_values\": 2399,\n        \"samples\": [\n          2036,\n          1977,\n          855\n        ],\n        \"semantic_type\": \"\",\n        \"description\": \"\"\n      }\n    },\n    {\n      \"column\": \"title\",\n      \"properties\": {\n        \"dtype\": \"category\",\n        \"num_unique_values\": 115,\n        \"samples\": [\n          \"le_reflechisseur_le_co2_est_une_arnaque.txt\",\n          \"dme_l'empreinte_carbone.txt\",\n          \"LE_CLUB_DE_ROME_LE_GROUPE_SECRET_L_ORIGINE_DE_L_HYSTERIE_CLIMATIQUE.txt\"\n        ],\n        \"semantic_type\": \"\",\n        \"description\": \"\"\n      }\n    },\n    {\n      \"column\": \"content\",\n      \"properties\": {\n        \"dtype\": \"string\",\n        \"num_unique_values\": 2283,\n        \"samples\": [\n          \"Pire encore, le CMIP 6 le plus r\\u00e9cent, qui moyenne 267 simulations, r\\u00e9alis\\u00e9 par 29 mod\\u00e8les diff\\u00e9rents cr\\u00e9\\u00e9s par 19 groupes de mod\\u00e9lisation climatique de diff\\u00e9rents pays, continue de mal d\\u00e9crire cette p\\u00e9riode de 1910 \\u00e0 1940, mais d\\u00e9crit \\u00e9galement tr\\u00e8s mal le r\\u00e9chauffement observ\\u00e9 depuis 1950. Cette incapacit\\u00e9 \\u00e0 reproduire un pass\\u00e9 aussi proche, m\\u00eame apr\\u00e8s hypoth\\u00e8se subgrid, initialisation partielle et r\\u00e9glage arrangeant, rend perplexe quant \\u00e0 la fiabilit\\u00e9 des mod\\u00e8les et montre \\u00e0 quel point les variations naturelles restent tr\\u00e8s difficilement explicables scientifiquement. Moi qui croyais que la science \\u00e9tait claire, nette, absolue, je dois vous avouer que toute cette histoire commence \\u00e0 devenir un peu bizarre. Bon, je r\\u00e9sume : comprendre le pr\\u00e9sent, on voit un peu le truc, mais bon, c'est pas fou, avec une influence de 1 %, qui a 50 % de marge d'erreur, quand m\\u00eame. Restituer le pass\\u00e9, bon, \\u00e7a colle plus ou moins en bidouillant, mais on n'arrive pas \\u00e0 expliquer des p\\u00e9riodes cl\\u00e9s parce qu'il nous manque des connaissances et qu'on ne comprend pas grand-chose. Finalement, pr\\u00e9dire l'avenir, bon, benah, du coup c'est mort. Mais on en a pas besoin de toute fa\\u00e7on. Non, on a plein de signes actuels de l'Apocalypse : la mont\\u00e9e des eaux li\\u00e9e aux \\u00e9missions anthropiques, les feux de for\\u00eat, les ouragans de plus en plus nombreux, les rendements agricoles et les espaces verts qui s'effondrent.\",\n          \"Il y a une seule fa\\u00e7on de le faire de fa\\u00e7on rapide et efficace, c'est le charbon. La Chine a suivi la m\\u00eame voie. On peut leur dire : ah, non, non, non, on veut pas que vous nous r\\u00e9chauffiez d'un quart de degr\\u00e9. Alors, non, laissez les 100 millions de personnes sans \\u00e9lectricit\\u00e9, donc, ils chaufferont au bois avec du mauvais bois, qui va polluer leur maison et qui leur donnera des maladies cardiovasculaires qui font quelques millions de morts par an, je crois, c'est 4 millions de morts par an selon l'OMS. \\u00c7a, c'est la vraie pollution, \\u00e7a, pour le coup, hein. Euh, donc, \\u00e7a a des effets consid\\u00e9rables et terribles sur beaucoup de gens dans le monde, c'est loin de nous, \\u00e9videmment, c'est au-del\\u00e0 du p\\u00e9riph\\u00e9rique parisien, mais c'est des gens qui en meurent vraiment. Ils meurent de nos discours, pas de. C'est vraiment nous qui essayons, nous, collectivement, de les emp\\u00eacher d'avoir acc\\u00e8s \\u00e0 ce que nous avons et donc aussi avoir acc\\u00e8s \\u00e0 un environnement. \\u00c7a. Aller dans des pays moins d\\u00e9velopp\\u00e9s, vous verrez que l'environnement, en g\\u00e9n\\u00e9ral, c'est la pollution. Et les sacs plastiques, oui, c'est nettement moins g\\u00e9r\\u00e9 que dans nos pays, bien s\\u00fbr. Et bien, en tout cas, on va, on va. Je vous invite, chers amis, \\u00e0 lire le livre de Beno\\u00eet Rittaud, Mythes et l\\u00e9gendes \\u00e9cologistes, aux \\u00e9ditions de l'Artilleur, au tr\\u00e8s bonne d\\u00e9ion de l'artilleur, et, bien s\\u00fbr, bien s\\u00fbr, de suivre, d'aller voir, de lire, euh, les, les travaux de l'association, donc, vous avez, le pr\\u00e9sident Beno\\u00eet Rittaud, des climato-r\\u00e9alistes, et je vous invite \\u00e0 aller revoir, bien entendu en replay, l'interview de Christian G\\u00e9rondeau, qui \\u00e9tait cette semaine au micro de Cl\\u00e9mence, et aujourd'hui, ben, c'est le tour de Beno\\u00eet. Merci, Beno\\u00eet, d'\\u00eatre venu ce matin sur Media Par, sur Media, sur Toxin M\\u00e9dia. Merci \\u00e0 vous en tout cas d'\\u00eatre venu. On vous souhaite un excellent weekend. On esp\\u00e8re que vous allez pouvoir continuer \\u00e0 \\u0153uvrer. Bien entendu, l\\u00e0-dessus, on verra bien si c'est, on vous laisse l'occasion et si on vous laisse le micro, bien entendu, Cho, je souhaite un excellent weekend. Bonne journ\\u00e9e \\u00e0 vous.\",\n          \"Bah non, \\u00e7a fait quelques temps qu'elle est sur terre, effectivement, mais que c'est l'\\u00e9levage intensif de ces crustac\\u00e9s, accompagn\\u00e9 \\u00e0 la pollution, qui aggrave la situation. Les fermes, je dis : le but, c'est de flinguer l'aquaculture, comme on a flingu\\u00e9 l'agriculture et puis apr\\u00e8s, ils trouveront autre chose \\u00e0 flinguer. En fait, l'homme, c'est mal. Il faut d\\u00e9truire toute r\\u00e9alisation humaine. Ces gens-l\\u00e0 sont des vers. Pas, ce sont des \\u00e9cologistes.\\\" En fait, Stanislav Bonaglia, directeur de l'\\u00e9tude, souligne que ce ph\\u00e9nom\\u00e8ne n'est pas nouveau. Excusez-moi, j'ai d\\u00e9j\\u00e0 lu. Les fermes aquacoles et les pratiques agricoles sur la terre ferme contribuent \\u00e0 la pollution des eaux de la Baltique, favorisant la prolif\\u00e9ration d'algues et de bact\\u00e9ries qui produisent \\u00e9galement des gaz \\u00e0 effet de serre.\"\n        ],\n        \"semantic_type\": \"\",\n        \"description\": \"\"\n      }\n    },\n    {\n      \"column\": \"score\",\n      \"properties\": {\n        \"dtype\": \"number\",\n        \"std\": 0.17888717136831728,\n        \"min\": 0.2818910181522369,\n        \"max\": 0.9973479509353638,\n        \"num_unique_values\": 2283,\n        \"samples\": [\n          0.9271328449249268,\n          0.7246187329292297,\n          0.705615222454071\n        ],\n        \"semantic_type\": \"\",\n        \"description\": \"\"\n      }\n    },\n    {\n      \"column\": \"score_echelle\",\n      \"properties\": {\n        \"dtype\": \"number\",\n        \"std\": 0,\n        \"min\": 1,\n        \"max\": 3,\n        \"num_unique_values\": 3,\n        \"samples\": [\n          1,\n          2,\n          3\n        ],\n        \"semantic_type\": \"\",\n        \"description\": \"\"\n      }\n    },\n    {\n      \"column\": \"score_par_label\",\n      \"properties\": {\n        \"dtype\": \"string\",\n        \"num_unique_values\": 2283,\n        \"samples\": [\n          \"sad: 0.9271, fear: 0.0043, anger: 0.0627, neutral: 0.0033, surprise: 0.0023, joy: 0.0002\",\n          \"sad: 0.7246, fear: 0.0056, anger: 0.2575, neutral: 0.0086, surprise: 0.0021, joy: 0.0015\",\n          \"sad: 0.2826, fear: 0.0053, anger: 0.7056, neutral: 0.0036, surprise: 0.0023, joy: 0.0006\"\n        ],\n        \"semantic_type\": \"\",\n        \"description\": \"\"\n      }\n    },\n    {\n      \"column\": \"sum_without_neutral\",\n      \"properties\": {\n        \"dtype\": \"number\",\n        \"std\": 0.4210592480160169,\n        \"min\": 0.0102,\n        \"max\": 0.9993,\n        \"num_unique_values\": 1522,\n        \"samples\": [\n          0.8662,\n          0.0399,\n          0.0951999999999999\n        ],\n        \"semantic_type\": \"\",\n        \"description\": \"\"\n      }\n    },\n    {\n      \"column\": \"sum_recalibree\",\n      \"properties\": {\n        \"dtype\": \"number\",\n        \"std\": 5.891738198101744,\n        \"min\": 0.1950259207768194,\n        \"max\": 33.43539455190518,\n        \"num_unique_values\": 2283,\n        \"samples\": [\n          7.070731205553475,\n          6.33161939248194,\n          4.610536420643627\n        ],\n        \"semantic_type\": \"\",\n        \"description\": \"\"\n      }\n    },\n    {\n      \"column\": \"label_dominant\",\n      \"properties\": {\n        \"dtype\": \"category\",\n        \"num_unique_values\": 6,\n        \"samples\": [\n          \"anger\",\n          \"neutral\",\n          \"fear\"\n        ],\n        \"semantic_type\": \"\",\n        \"description\": \"\"\n      }\n    },\n    {\n      \"column\": \"intensite_emotion\",\n      \"properties\": {\n        \"dtype\": \"number\",\n        \"std\": 0,\n        \"min\": 1,\n        \"max\": 3,\n        \"num_unique_values\": 3,\n        \"samples\": [\n          2,\n          1,\n          3\n        ],\n        \"semantic_type\": \"\",\n        \"description\": \"\"\n      }\n    },\n    {\n      \"column\": \"score_vf\",\n      \"properties\": {\n        \"dtype\": \"category\",\n        \"num_unique_values\": 4,\n        \"samples\": [\n          \"3\",\n          \"$\",\n          \"2\"\n        ],\n        \"semantic_type\": \"\",\n        \"description\": \"\"\n      }\n    },\n    {\n      \"column\": \"expertise_gpt4\",\n      \"properties\": {\n        \"dtype\": \"number\",\n        \"std\": 0.8790206959991234,\n        \"min\": 1.0,\n        \"max\": 3.0,\n        \"num_unique_values\": 3,\n        \"samples\": [\n          3.0,\n          2.0,\n          1.0\n        ],\n        \"semantic_type\": \"\",\n        \"description\": \"\"\n      }\n    }\n  ]\n}"
            }
          },
          "metadata": {},
          "execution_count": 3
        }
      ]
    },
    {
      "cell_type": "markdown",
      "source": [
        "On effectue d'abord une première étape de nettoyager, pour supprimer les cases vides, et passer toutes les valeurs numériques au même format int."
      ],
      "metadata": {
        "id": "fM-4gypwfmY1"
      }
    },
    {
      "cell_type": "code",
      "source": [
        "# les colonnes qui contiennent un NaN ou une valeur non entière sont supprimées :\n",
        "mon_fichier = mon_fichier.replace([float('inf'), float('-inf')], float('nan')).dropna(subset=['expertise_gpt4'])\n",
        "\n",
        "# On convertit tout en int, et les colonnes pour lesquelles la conversion est manquée sont supprimées :\n",
        "mon_fichier['score_vf'] = pd.to_numeric(mon_fichier['score_vf'], errors='coerce')\n",
        "mon_fichier = mon_fichier.dropna(subset=['score_vf']) # Drop rows where conversion failed\n",
        "mon_fichier['expertise_gpt4'] = mon_fichier['expertise_gpt4'].astype(int)\n",
        "mon_fichier['score_vf'] = mon_fichier['score_vf'].astype(int)"
      ],
      "metadata": {
        "id": "7n9Z9AwThqPU"
      },
      "execution_count": 10,
      "outputs": []
    },
    {
      "cell_type": "markdown",
      "source": [
        "**1. Calcul des moyennes**"
      ],
      "metadata": {
        "id": "bNJVpyT0jl4Q"
      }
    },
    {
      "cell_type": "markdown",
      "source": [
        "D'abord pour le corpus principal :"
      ],
      "metadata": {
        "id": "jjaio3Rlj4qD"
      }
    },
    {
      "cell_type": "code",
      "source": [
        "moyenne_emo = mon_fichier['score_vf'].mean()\n",
        "moyenne_exp = mon_fichier['expertise_gpt4'].mean()\n",
        "print(\"la moyenne de l'émotion est : \", moyenne_emo)\n",
        "print(\"la moyenne de l'expertise est : \", moyenne_exp)"
      ],
      "metadata": {
        "id": "xlBWGbpwP9NH",
        "colab": {
          "base_uri": "https://localhost:8080/"
        },
        "outputId": "3bfa8808-4f19-4806-d408-cec27c0327c4"
      },
      "execution_count": 12,
      "outputs": [
        {
          "output_type": "stream",
          "name": "stdout",
          "text": [
            "la moyenne de l'émotion est :  1.7944120100083403\n",
            "la moyenne de l'expertise est :  2.2789824854045038\n"
          ]
        }
      ]
    },
    {
      "cell_type": "markdown",
      "source": [
        "Ensuite pour le corpus témoin :"
      ],
      "metadata": {
        "id": "NYey8MHLj8dq"
      }
    },
    {
      "cell_type": "code",
      "source": [
        "moyenne_emo = mon_fichier_temoin['score_vf'].mean()\n",
        "moyenne_exp = mon_fichier_temoin['expertise_gpt4'].mean()\n",
        "print(\"la moyenne de l'émotion est : \", moyenne_emo)\n",
        "print(\"la moyenne de l'expertise est : \", moyenne_exp)"
      ],
      "metadata": {
        "colab": {
          "base_uri": "https://localhost:8080/"
        },
        "id": "eQj8dkvNkARD",
        "outputId": "694d14ec-74f1-464d-f54f-9abe09f8c397"
      },
      "execution_count": 13,
      "outputs": [
        {
          "output_type": "stream",
          "name": "stdout",
          "text": [
            "la moyenne de l'émotion est :  1.4437052200614124\n",
            "la moyenne de l'expertise est :  2.097022587268994\n"
          ]
        }
      ]
    },
    {
      "cell_type": "markdown",
      "source": [
        "**2. Répartition des données  :**"
      ],
      "metadata": {
        "id": "P9GPoR_YDJLT"
      }
    },
    {
      "cell_type": "markdown",
      "source": [
        "Pour le corpus principal :"
      ],
      "metadata": {
        "id": "eaiE_EvHlX5p"
      }
    },
    {
      "cell_type": "code",
      "source": [
        "mon_fichier['score_vf'].value_counts().sort_index().plot(\n",
        "    kind=\"bar\"\n",
        ")\n",
        "\n",
        "plt.xlabel(\"Scores d'émotion\")\n",
        "plt.ylabel(\"Fréquence\")\n",
        "plt.title(\"Répartition des scores d'émotion : corpus principal\")\n",
        "plt.show()"
      ],
      "metadata": {
        "colab": {
          "base_uri": "https://localhost:8080/",
          "height": 467
        },
        "id": "x8DH0DjXloaj",
        "outputId": "a5c3298a-01b9-4d74-fcd9-29de06872ceb"
      },
      "execution_count": 20,
      "outputs": [
        {
          "output_type": "display_data",
          "data": {
            "text/plain": [
              "<Figure size 640x480 with 1 Axes>"
            ],
            "image/png": "[encoded data removed]"
          },
          "metadata": {}
        }
      ]
    },
    {
      "cell_type": "code",
      "source": [
        "mon_fichier['expertise_gpt4'].value_counts().sort_index().plot(\n",
        "    kind=\"bar\"\n",
        ")\n",
        "\n",
        "plt.xlabel(\"Scores d'émotion\")\n",
        "plt.ylabel(\"Fréquence\")\n",
        "plt.title(\"Répartition des scores d'expertise : corpus principal\")\n",
        "plt.show()"
      ],
      "metadata": {
        "colab": {
          "base_uri": "https://localhost:8080/",
          "height": 467
        },
        "id": "hqCeimwKnEYN",
        "outputId": "3befff1c-51fc-4835-e955-e70ac1d0c82c"
      },
      "execution_count": 21,
      "outputs": [
        {
          "output_type": "display_data",
          "data": {
            "text/plain": [
              "<Figure size 640x480 with 1 Axes>"
            ],
            "image/png": "[encoded data removed]"
          },
          "metadata": {}
        }
      ]
    },
    {
      "cell_type": "markdown",
      "source": [
        "A présent, on peut produire des diagrammes de répartition pour le corpus témoin :"
      ],
      "metadata": {
        "id": "A99cwl9EnRbH"
      }
    },
    {
      "cell_type": "code",
      "source": [
        "mon_fichier_temoin['score_vf'].value_counts().sort_index().plot(\n",
        "    kind=\"bar\"\n",
        ")\n",
        "\n",
        "plt.xlabel(\"Scores d'émotion\")\n",
        "plt.ylabel(\"Fréquence\")\n",
        "plt.title(\"Répartition des scores d'émotion : corpus témoin\")\n",
        "plt.show()"
      ],
      "metadata": {
        "colab": {
          "base_uri": "https://localhost:8080/",
          "height": 467
        },
        "id": "7RKtxekmnW-c",
        "outputId": "f3232beb-4936-4d4b-e9de-927f66918b35"
      },
      "execution_count": 22,
      "outputs": [
        {
          "output_type": "display_data",
          "data": {
            "text/plain": [
              "<Figure size 640x480 with 1 Axes>"
            ],
            "image/png": "[encoded data removed]"
          },
          "metadata": {}
        }
      ]
    },
    {
      "cell_type": "code",
      "source": [
        "mon_fichier_temoin['expertise_gpt4'].value_counts().sort_index().plot(\n",
        "    kind=\"bar\"\n",
        ")\n",
        "\n",
        "plt.xlabel(\"Scores d'expertise\")\n",
        "plt.ylabel(\"Fréquence\")\n",
        "plt.title(\"Répartition des scores d'émotion : corpus témoin\")\n",
        "plt.show()"
      ],
      "metadata": {
        "colab": {
          "base_uri": "https://localhost:8080/",
          "height": 480
        },
        "id": "Aqr-6GpmncDH",
        "outputId": "8510dc06-279d-46f7-fe76-f14fb4bfd5da"
      },
      "execution_count": 23,
      "outputs": [
        {
          "output_type": "display_data",
          "data": {
            "text/plain": [
              "<Figure size 640x480 with 1 Axes>"
            ],
            "image/png": "[encoded data removed]"
          },
          "metadata": {}
        }
      ]
    },
    {
      "cell_type": "markdown",
      "source": [
        "**3. Production des courbes émotionnelles en un graphique :**"
      ],
      "metadata": {
        "id": "x34bwArpsp5i"
      }
    },
    {
      "cell_type": "code",
      "source": [
        "df_filtered = mon_fichier.replace([float('inf'), float('-inf')], np.nan)\n",
        "df_filtered = df_filtered.dropna(subset=['score_vf', 'expertise_gpt4']).copy()\n",
        "\n",
        "# --- Conversion 'score_vf' en numérique ---\n",
        "df_filtered['score_vf'] = pd.to_numeric(df_filtered['score_vf'], errors='coerce')\n",
        "\n",
        "# --- Filtre sur un titre précis ---\n",
        "titre_exact = \"faroukdj71_françois_gervais_cnews.txt\" #remplacer par un titre exact (dans la colonne 'title') :\n",
        "df_filtered = mon_fichier[mon_fichier['title'] == titre_exact]\n",
        "\n",
        "# --- Suppression des NaN restants après conversion ---\n",
        "df_filtered = df_filtered.dropna(subset=['score_vf'])\n",
        "\n",
        "# --- Conversion en entier ---\n",
        "df_filtered['score_vf'] = df_filtered['score_vf'].astype(int)\n",
        "\n",
        "# --- Courbe 1 : score_vf (discret, compressé) ---\n",
        "score_mapping = {1: -0.2, 2: 0.0, 3: 0.2}\n",
        "y1 = np.array([score_mapping[s] for s in df_filtered['score_vf']])\n",
        "\n",
        "# --- Courbe 2 : expertise_gpt4 (normalisation min-max entre -0.2 et 0.2) ---\n",
        "y2_raw = df_filtered['expertise_gpt4'].values.astype(float)\n",
        "y2_min, y2_max = y2_raw.min(), y2_raw.max()\n",
        "y2 = -0.2 + 0.4 * (y2_raw - y2_min) / (y2_max - y2_min)\n",
        "\n",
        "# --- Axe X ---\n",
        "x = np.arange(1, len(df_filtered) + 1)\n",
        "\n",
        "# --- Lissage ---\n",
        "x_smooth = np.linspace(x.min(), x.max(), 300)\n",
        "spline1 = make_interp_spline(x, y1, k=3)\n",
        "spline2 = make_interp_spline(x, y2, k=3)\n",
        "y1_smooth = spline1(x_smooth)\n",
        "y2_smooth = spline2(x_smooth)\n",
        "\n",
        "# --- Tracé ---\n",
        "plt.figure(figsize=(12, 6))\n",
        "\n",
        "# Courbe 1 : émotion\n",
        "plt.plot(x_smooth, y1_smooth, label=\"score d'émotion\", color='blue')\n",
        "plt.scatter(x, y1, color='blue', alpha=0.3)\n",
        "\n",
        "# Courbe 2 : expertise\n",
        "plt.plot(x_smooth, y2_smooth, label=\"score d'expertise\", color='red')\n",
        "plt.scatter(x, y2, color='red', alpha=0.3)\n",
        "\n",
        "# Décorations\n",
        "plt.axhline(0, color='gray', linestyle='--')\n",
        "plt.title(f\"Courbe émotionnelle et expertise : {titre_exact}\")\n",
        "plt.xlabel(\"Temps\")\n",
        "plt.ylabel(\"Score transformé et tassé\")\n",
        "plt.yticks(ticks=[-0.2, 0.0, 0.2], labels=['1', '2', '3'])\n",
        "\n",
        "plt.legend()\n",
        "plt.grid(True)\n",
        "plt.tight_layout()\n",
        "plt.show()"
      ],
      "metadata": {
        "colab": {
          "base_uri": "https://localhost:8080/",
          "height": 607
        },
        "id": "-C1BF4iFIKR1",
        "outputId": "7fe76dca-dbed-4053-e363-e2351ee7dfd6"
      },
      "execution_count": 44,
      "outputs": [
        {
          "output_type": "display_data",
          "data": {
            "text/plain": [
              "<Figure size 1200x600 with 1 Axes>"
            ],
            "image/png": "[encoded data removed]"
          },
          "metadata": {}
        }
      ]
    },
    {
      "cell_type": "markdown",
      "source": [
        "**4. quelle est la longueur moyenne des palliers pour chaque score pour l'émotion et pour l'expertise ?**"
      ],
      "metadata": {
        "id": "icO2LdB_Rwwy"
      }
    },
    {
      "cell_type": "code",
      "source": [
        "def get_runs(df, col):\n",
        "    # Créer un groupe qui change chaque fois que la valeur de la colonne change\n",
        "    group_id = (df[col] != df[col].shift()).cumsum()\n",
        "\n",
        "    # Grouper par ces segments\n",
        "    runs = df.groupby(group_id).agg(\n",
        "        score=(col, 'first'),\n",
        "        run_length=(col, 'size')\n",
        "    ).reset_index(drop=True)\n",
        "\n",
        "    # Ne garder que les runs d'au moins 3 éléments\n",
        "    runs = runs[runs['run_length'] >= 2]\n",
        "\n",
        "    return runs\n",
        "\n"
      ],
      "metadata": {
        "id": "1KBSMvtWAnbQ"
      },
      "execution_count": 52,
      "outputs": []
    },
    {
      "cell_type": "code",
      "source": [
        "all_runs_emotion = []\n",
        "all_runs_expertise = []\n",
        "\n",
        "for title, group in mon_fichier.groupby('title'):\n",
        "    runs_emotion = get_runs(group, 'score_vf')\n",
        "    runs_expertise = get_runs(group, 'expertise_gpt4')\n",
        "\n",
        "    all_runs_emotion.append(runs_emotion)\n",
        "    all_runs_expertise.append(runs_expertise)\n",
        "\n",
        "df_runs_emotion = pd.concat(all_runs_emotion, ignore_index=True)\n",
        "df_runs_expertise = pd.concat(all_runs_expertise, ignore_index=True)\n",
        "\n",
        "# Calcul des moyennes\n",
        "moyennes_emotion = df_runs_emotion.groupby('score')['run_length'].mean()\n",
        "moyennes_expertise = df_runs_expertise.groupby('score')['run_length'].mean()\n"
      ],
      "metadata": {
        "id": "pxxqS8RNA94i"
      },
      "execution_count": 53,
      "outputs": []
    },
    {
      "cell_type": "code",
      "source": [
        "print(\"Longueur moyenne des segments émotionnels par score :\")\n",
        "print(moyennes_emotion)\n",
        "\n",
        "print(\"\\nLongueur moyenne des segments d'expertise par score :\")\n",
        "print(moyennes_expertise)"
      ],
      "metadata": {
        "colab": {
          "base_uri": "https://localhost:8080/"
        },
        "id": "hMq-m6ENCi5l",
        "outputId": "e8b665ae-c4b5-43a8-ffe6-8ab45693079b"
      },
      "execution_count": 54,
      "outputs": [
        {
          "output_type": "stream",
          "name": "stdout",
          "text": [
            "Longueur moyenne des segments émotionnels par score :\n",
            "score\n",
            "1    3.168421\n",
            "2    3.356863\n",
            "3    2.385965\n",
            "Name: run_length, dtype: float64\n",
            "\n",
            "Longueur moyenne des segments d'expertise par score :\n",
            "score\n",
            "1    2.914894\n",
            "2    2.500000\n",
            "3    3.954545\n",
            "Name: run_length, dtype: float64\n"
          ]
        }
      ]
    },
    {
      "cell_type": "markdown",
      "source": [
        "**5. où se situent les séquences très émotionnées dans les documents qui contiennent ce type de séquences ?**"
      ],
      "metadata": {
        "id": "_a54r2FMsi22"
      }
    },
    {
      "cell_type": "code",
      "source": [
        "resultats = []\n",
        "\n",
        "for title, group in mon_fichier.groupby(\"title\"):\n",
        "    scores = group[\"score_vf\"].tolist()\n",
        "    n = len(scores)\n",
        "    if n == 0:\n",
        "        continue\n",
        "\n",
        "    scores = np.array(scores)\n",
        "\n",
        "    max_len = 0\n",
        "    max_start = -1\n",
        "\n",
        "    i = 0\n",
        "    while i < n:\n",
        "        if scores[i] >= 2:\n",
        "            start = i\n",
        "            contains_3 = scores[i] == 3\n",
        "            length = 1\n",
        "            i += 1\n",
        "\n",
        "            while i < n and scores[i] >= 2:\n",
        "                if scores[i] == 3:\n",
        "                    contains_3 = True\n",
        "                length += 1\n",
        "                i += 1\n",
        "\n",
        "            if contains_3 and length >= 3:\n",
        "                if length > max_len:\n",
        "                    max_len = length\n",
        "                    max_start = start\n",
        "        else:\n",
        "            i += 1\n",
        "\n",
        "    if max_len == 0:\n",
        "        continue\n",
        "\n",
        "    start_norm = max_start / n\n",
        "    end_norm = (max_start + max_len) / n\n",
        "\n",
        "    resultats.append({\n",
        "        \"title\": title,\n",
        "        \"max_sequence_length\": max_len,\n",
        "        \"start_norm\": start_norm,\n",
        "        \"end_norm\": end_norm\n",
        "    })\n",
        "\n",
        "df_sequences = pd.DataFrame(resultats)\n",
        "\n",
        "# 🎨 Visualisation mise à jour\n",
        "plt.figure(figsize=(10, 6))\n",
        "plt.scatter(df_sequences[\"start_norm\"], df_sequences[\"max_sequence_length\"], alpha=0.7)\n",
        "plt.xlabel(\"Position normalisée du début de la séquence (0 = début, 1 = fin)\")\n",
        "plt.ylabel(\"Longueur de la séquence émotionnée (score ≥ 2 avec ≥1 score à 3)\")\n",
        "plt.title(\"Séquences très émotionnées dans les documents qui contiennent ce type de séquences\")\n",
        "plt.grid(True)\n",
        "plt.show()"
      ],
      "metadata": {
        "colab": {
          "base_uri": "https://localhost:8080/",
          "height": 565
        },
        "id": "Nh3VAveHsuju",
        "outputId": "6301c382-eb67-47b4-94cc-eee75a796be8"
      },
      "execution_count": 55,
      "outputs": [
        {
          "output_type": "display_data",
          "data": {
            "text/plain": [
              "<Figure size 1000x600 with 1 Axes>"
            ],
            "image/png": "[encoded data removed]"
          },
          "metadata": {}
        }
      ]
    },
    {
      "cell_type": "markdown",
      "source": [
        "**6. Carte de chaleur montrant la combinaison des scores :**"
      ],
      "metadata": {
        "id": "Q8gbstxal61x"
      }
    },
    {
      "cell_type": "code",
      "source": [
        "plt.figure(figsize=(8,6))\n",
        "plt.hexbin(mon_fichier['score_vf'], mon_fichier['expertise_gpt4'], gridsize=30, cmap='YlGnBu', mincnt=1)\n",
        "plt.colorbar(label='Nombre de points')\n",
        "plt.xlabel('Score émotion')\n",
        "plt.ylabel('Score expertise')\n",
        "plt.title(\" Tableau en carte de chaleur croisant les scores d'expertise et d'émotion\")\n",
        "plt.show()\n"
      ],
      "metadata": {
        "colab": {
          "base_uri": "https://localhost:8080/",
          "height": 565
        },
        "id": "hZrOvmO8GynB",
        "outputId": "d4a4332a-54d1-4d38-c29e-e48759d8fa11"
      },
      "execution_count": 32,
      "outputs": [
        {
          "output_type": "display_data",
          "data": {
            "text/plain": [
              "<Figure size 800x600 with 2 Axes>"
            ],
            "image/png": "[encoded data removed]"
          },
          "metadata": {}
        }
      ]
    },
    {
      "cell_type": "markdown",
      "source": [
        "## **Pour la partie sur l'analyse de l' émotion :**"
      ],
      "metadata": {
        "id": "aqQtscK-s9dx"
      }
    },
    {
      "cell_type": "markdown",
      "source": [
        "**7. On calcule les documents qui contiennent les scores émotionnels les plus hauts :**"
      ],
      "metadata": {
        "id": "7TtEpw3FphOE"
      }
    },
    {
      "cell_type": "code",
      "source": [
        "# Seuil : ici, on considère \"début\" comme les 10% premiers du texte\n",
        "seuil_debut = 0.2\n",
        "\n",
        "# Filtrer les documents où la séquence la plus émotionnée commence très tôt\n",
        "docs_debut = df_sequences[df_sequences[\"start_norm\"] <= seuil_debut]\n",
        "\n",
        "# Afficher les titres\n",
        "print(\"Documents dont le passage le plus émotionné commence en début de discours :\")\n",
        "print(docs_debut[[\"title\", \"start_norm\", \"max_sequence_length\"]])\n"
      ],
      "metadata": {
        "colab": {
          "base_uri": "https://localhost:8080/"
        },
        "id": "0jNoua61bb3c",
        "outputId": "2164b2d9-7c89-4359-d585-03ef385b7c33"
      },
      "execution_count": null,
      "outputs": [
        {
          "output_type": "stream",
          "name": "stdout",
          "text": [
            "Documents dont le passage le plus émotionné commence en début de discours :\n",
            "                                                title  start_norm  \\\n",
            "1   CLIMAT_ENQUTE_SUR_UN_MENSONGE_MONDIAL_ALBAN_D_...    0.181818   \n",
            "2   DME_Maintenant_Ce_Sont_Les_Huitres_Qui_Sont_Re...    0.000000   \n",
            "6   DME_Maintenant_Votre_Potager_Serait_Le_Respons...    0.142857   \n",
            "10  DME_Votre_RESPIRATION_Est_Mauvaise_Pour_le_Cli...    0.076923   \n",
            "12  LE_CLUB_DE_ROME_LE_GROUPE_SECRET_L_ORIGINE_DE_...    0.000000   \n",
            "17  Tatiana_ventose_LA_PEUR_POUR_NOUS_ FAIRE_ACCEP...    0.172414   \n",
            "18  Véritable_réchauffement_climatique_ou_prise_de...    0.000000   \n",
            "19     aberkane_vers_une_dictature_climatique.txt.txt    0.075269   \n",
            "20      climat_corona_et_caetera_henri_de_lesquen.txt    0.000000   \n",
            "22             dme_colocation_obligatoire_en_2025.txt    0.000000   \n",
            "23                        dme_l'empreinte_carbone.txt    0.000000   \n",
            "27                   fab_roots_controle_du_climat.txt    0.000000   \n",
            "28              faroukdj71_françois_gervais_cnews.txt    0.000000   \n",
            "36  jean_dominique_michel_Loi_sur_le_climat_loi_Co...    0.076923   \n",
            "37           l_ecologie_a_l_endroi_benoit_rittaud.txt    0.090909   \n",
            "39        la_science_sous_pression_benoit_rittaud.txt    0.000000   \n",
            "40      le_jour_d_apres_de_monique_pincon_charlot.txt    0.000000   \n",
            "43               planete_vagabonde_benoit_rittaud.txt    0.000000   \n",
            "47  rechauffement_climatique_quand_les_gens_ont_pe...    0.000000   \n",
            "48          renaissance_catholique_benoit_rittaud.txt    0.000000   \n",
            "51  sud_radio_Les_annonces_des_climatologues_sont_...    0.000000   \n",
            "52      sud_radio_il_est_renvoye_d_une_universite.txt    0.000000   \n",
            "55                     tocsin_media_daniel_husson.txt    0.000000   \n",
            "56  tocsin_rechauffement_climatique _ce_que_France...    0.156250   \n",
            "57  tocsin_rechauffement_climatique_un_physiscien_...    0.000000   \n",
            "\n",
            "    max_sequence_length  \n",
            "1                     5  \n",
            "2                    11  \n",
            "6                     3  \n",
            "10                    7  \n",
            "12                    8  \n",
            "17                   12  \n",
            "18                    4  \n",
            "19                    9  \n",
            "20                    8  \n",
            "22                    4  \n",
            "23                   13  \n",
            "27                    7  \n",
            "28                    3  \n",
            "36                   12  \n",
            "37                    5  \n",
            "39                    9  \n",
            "40                    5  \n",
            "43                    8  \n",
            "47                    7  \n",
            "48                    4  \n",
            "51                    7  \n",
            "52                    6  \n",
            "55                    3  \n",
            "56                   14  \n",
            "57                    3  \n"
          ]
        }
      ]
    },
    {
      "cell_type": "markdown",
      "source": [
        "## **Pour la partie qui étudie les chevauchements entre expertise et émotion :**"
      ],
      "metadata": {
        "id": "M5x30juDtEmh"
      }
    },
    {
      "cell_type": "markdown",
      "source": [
        "**8. Quels passages montrent deux scores hauts, à 3 ?**"
      ],
      "metadata": {
        "id": "UyWqOTYspAgi"
      }
    },
    {
      "cell_type": "code",
      "source": [
        "df_score_eleve = mon_fichier[(mon_fichier['score_vf'] == 3) & (mon_fichier['expertise_gpt4'] == 3)]\n",
        "df_score_eleve"
      ],
      "metadata": {
        "colab": {
          "base_uri": "https://localhost:8080/",
          "height": 1000
        },
        "id": "aC2guDffqht0",
        "outputId": "17c177e9-d0eb-4dee-bdbe-a234ad5bbd8f"
      },
      "execution_count": 56,
      "outputs": [
        {
          "output_type": "execute_result",
          "data": {
            "text/plain": [
              "      Unnamed: 0                                              title  \\\n",
              "1              1      climat_corona_et_caetera_henri_de_lesquen.txt   \n",
              "2              2      climat_corona_et_caetera_henri_de_lesquen.txt   \n",
              "15            15      climat_corona_et_caetera_henri_de_lesquen.txt   \n",
              "34            34  climat_schwab_crache_le_morceau_florian_philip...   \n",
              "39            39  climat_schwab_crache_le_morceau_florian_philip...   \n",
              "...          ...                                                ...   \n",
              "2310        2310  tocsin_rechauffement_climatique_un_physiscien_...   \n",
              "2315        2315  toscin_Le_rechauffement_climatique_est_un_nouv...   \n",
              "2335        2335  toscin_Le_rechauffement_climatique_est_un_nouv...   \n",
              "2373        2373                             tvl_benoit_rittaud.txt   \n",
              "2397        2397     yves_roucaute_sur_cnews_raphael_dragonneau.txt   \n",
              "\n",
              "                                                content     score  \\\n",
              "1     Le 26 février 2020, le PSG a joué au pied à Ly...  0.684093   \n",
              "2     Le soir même, jeudi 12 mars, sans plus attendr...  0.551490   \n",
              "15    C'est notamment le cas pour les nuages, qui jo...  0.482279   \n",
              "34    Professeur agrégé de philosophie, qui est vice...  0.931207   \n",
              "39    Et si vous venez à deux, inscrivez-vous, s'il ...  0.791400   \n",
              "...                                                 ...       ...   \n",
              "2310  Mais mes collègues chercheurs n'ont pas le tem...  0.885262   \n",
              "2315  Le climat, l'évolution du climat, le changemen...  0.536594   \n",
              "2335  Et après, en tout cas, merci d'être là ce mati...  0.862050   \n",
              "2373  Je mentionne dans mon ouvrage un appel qui a é...  0.517273   \n",
              "2397  C'est absolument incroyable, c'est fascinant c...  0.743721   \n",
              "\n",
              "      score_echelle                                    score_par_label  \\\n",
              "1                 2  sad: 0.1762, fear: 0.0697, anger: 0.6841, neut...   \n",
              "2                 2  sad: 0.4262, fear: 0.0081, anger: 0.5515, neut...   \n",
              "15                1  sad: 0.0229, fear: 0.3193, anger: 0.0470, neut...   \n",
              "34                3  sad: 0.0030, fear: 0.0005, anger: 0.0004, neut...   \n",
              "39                3  sad: 0.0042, fear: 0.0007, anger: 0.0010, neut...   \n",
              "...             ...                                                ...   \n",
              "2310              3  sad: 0.0518, fear: 0.0222, anger: 0.8853, neut...   \n",
              "2315              2  sad: 0.0032, fear: 0.0024, anger: 0.0023, neut...   \n",
              "2335              3  sad: 0.0042, fear: 0.0009, anger: 0.0012, neut...   \n",
              "2373              2  sad: 0.5173, fear: 0.0207, anger: 0.4191, neut...   \n",
              "2397              2  sad: 0.0263, fear: 0.0498, anger: 0.0366, neut...   \n",
              "\n",
              "      sum_without_neutral  sum_recalibree label_dominant  intensite_emotion  \\\n",
              "1                  0.9687        7.345752          anger                  2   \n",
              "2                  0.9901        5.284120          anger                  2   \n",
              "15                 0.8749       28.279754       surprise                  3   \n",
              "34                 0.9376       21.849069            joy                  3   \n",
              "39                 0.8011       18.648715            joy                  3   \n",
              "...                   ...             ...            ...                ...   \n",
              "2310               0.9832        4.833768          anger                  2   \n",
              "2315               0.5575       13.070159            joy                  2   \n",
              "2335               0.8725       20.316180            joy                  3   \n",
              "2373               0.9666        6.141685            sad                  2   \n",
              "2397               0.9264       28.496339       surprise                  3   \n",
              "\n",
              "      score_vf  expertise_gpt4  \n",
              "1            3               3  \n",
              "2            3               3  \n",
              "15           3               3  \n",
              "34           3               3  \n",
              "39           3               3  \n",
              "...        ...             ...  \n",
              "2310         3               3  \n",
              "2315         3               3  \n",
              "2335         3               3  \n",
              "2373         3               3  \n",
              "2397         3               3  \n",
              "\n",
              "[176 rows x 12 columns]"
            ],
            "text/html": [
              "\n",
              "  <div id=\"df-084b4527-1aa0-498a-9459-9e08f32af2b6\" class=\"colab-df-container\">\n",
              "    <div>\n",
              "<style scoped>\n",
              "    .dataframe tbody tr th:only-of-type {\n",
              "        vertical-align: middle;\n",
              "    }\n",
              "\n",
              "    .dataframe tbody tr th {\n",
              "        vertical-align: top;\n",
              "    }\n",
              "\n",
              "    .dataframe thead th {\n",
              "        text-align: right;\n",
              "    }\n",
              "</style>\n",
              "<table border=\"1\" class=\"dataframe\">\n",
              "  <thead>\n",
              "    <tr style=\"text-align: right;\">\n",
              "      <th></th>\n",
              "      <th>Unnamed: 0</th>\n",
              "      <th>title</th>\n",
              "      <th>content</th>\n",
              "      <th>score</th>\n",
              "      <th>score_echelle</th>\n",
              "      <th>score_par_label</th>\n",
              "      <th>sum_without_neutral</th>\n",
              "      <th>sum_recalibree</th>\n",
              "      <th>label_dominant</th>\n",
              "      <th>intensite_emotion</th>\n",
              "      <th>score_vf</th>\n",
              "      <th>expertise_gpt4</th>\n",
              "    </tr>\n",
              "  </thead>\n",
              "  <tbody>\n",
              "    <tr>\n",
              "      <th>1</th>\n",
              "      <td>1</td>\n",
              "      <td>climat_corona_et_caetera_henri_de_lesquen.txt</td>\n",
              "      <td>Le 26 février 2020, le PSG a joué au pied à Ly...</td>\n",
              "      <td>0.684093</td>\n",
              "      <td>2</td>\n",
              "      <td>sad: 0.1762, fear: 0.0697, anger: 0.6841, neut...</td>\n",
              "      <td>0.9687</td>\n",
              "      <td>7.345752</td>\n",
              "      <td>anger</td>\n",
              "      <td>2</td>\n",
              "      <td>3</td>\n",
              "      <td>3</td>\n",
              "    </tr>\n",
              "    <tr>\n",
              "      <th>2</th>\n",
              "      <td>2</td>\n",
              "      <td>climat_corona_et_caetera_henri_de_lesquen.txt</td>\n",
              "      <td>Le soir même, jeudi 12 mars, sans plus attendr...</td>\n",
              "      <td>0.551490</td>\n",
              "      <td>2</td>\n",
              "      <td>sad: 0.4262, fear: 0.0081, anger: 0.5515, neut...</td>\n",
              "      <td>0.9901</td>\n",
              "      <td>5.284120</td>\n",
              "      <td>anger</td>\n",
              "      <td>2</td>\n",
              "      <td>3</td>\n",
              "      <td>3</td>\n",
              "    </tr>\n",
              "    <tr>\n",
              "      <th>15</th>\n",
              "      <td>15</td>\n",
              "      <td>climat_corona_et_caetera_henri_de_lesquen.txt</td>\n",
              "      <td>C'est notamment le cas pour les nuages, qui jo...</td>\n",
              "      <td>0.482279</td>\n",
              "      <td>1</td>\n",
              "      <td>sad: 0.0229, fear: 0.3193, anger: 0.0470, neut...</td>\n",
              "      <td>0.8749</td>\n",
              "      <td>28.279754</td>\n",
              "      <td>surprise</td>\n",
              "      <td>3</td>\n",
              "      <td>3</td>\n",
              "      <td>3</td>\n",
              "    </tr>\n",
              "    <tr>\n",
              "      <th>34</th>\n",
              "      <td>34</td>\n",
              "      <td>climat_schwab_crache_le_morceau_florian_philip...</td>\n",
              "      <td>Professeur agrégé de philosophie, qui est vice...</td>\n",
              "      <td>0.931207</td>\n",
              "      <td>3</td>\n",
              "      <td>sad: 0.0030, fear: 0.0005, anger: 0.0004, neut...</td>\n",
              "      <td>0.9376</td>\n",
              "      <td>21.849069</td>\n",
              "      <td>joy</td>\n",
              "      <td>3</td>\n",
              "      <td>3</td>\n",
              "      <td>3</td>\n",
              "    </tr>\n",
              "    <tr>\n",
              "      <th>39</th>\n",
              "      <td>39</td>\n",
              "      <td>climat_schwab_crache_le_morceau_florian_philip...</td>\n",
              "      <td>Et si vous venez à deux, inscrivez-vous, s'il ...</td>\n",
              "      <td>0.791400</td>\n",
              "      <td>3</td>\n",
              "      <td>sad: 0.0042, fear: 0.0007, anger: 0.0010, neut...</td>\n",
              "      <td>0.8011</td>\n",
              "      <td>18.648715</td>\n",
              "      <td>joy</td>\n",
              "      <td>3</td>\n",
              "      <td>3</td>\n",
              "      <td>3</td>\n",
              "    </tr>\n",
              "    <tr>\n",
              "      <th>...</th>\n",
              "      <td>...</td>\n",
              "      <td>...</td>\n",
              "      <td>...</td>\n",
              "      <td>...</td>\n",
              "      <td>...</td>\n",
              "      <td>...</td>\n",
              "      <td>...</td>\n",
              "      <td>...</td>\n",
              "      <td>...</td>\n",
              "      <td>...</td>\n",
              "      <td>...</td>\n",
              "      <td>...</td>\n",
              "    </tr>\n",
              "    <tr>\n",
              "      <th>2310</th>\n",
              "      <td>2310</td>\n",
              "      <td>tocsin_rechauffement_climatique_un_physiscien_...</td>\n",
              "      <td>Mais mes collègues chercheurs n'ont pas le tem...</td>\n",
              "      <td>0.885262</td>\n",
              "      <td>3</td>\n",
              "      <td>sad: 0.0518, fear: 0.0222, anger: 0.8853, neut...</td>\n",
              "      <td>0.9832</td>\n",
              "      <td>4.833768</td>\n",
              "      <td>anger</td>\n",
              "      <td>2</td>\n",
              "      <td>3</td>\n",
              "      <td>3</td>\n",
              "    </tr>\n",
              "    <tr>\n",
              "      <th>2315</th>\n",
              "      <td>2315</td>\n",
              "      <td>toscin_Le_rechauffement_climatique_est_un_nouv...</td>\n",
              "      <td>Le climat, l'évolution du climat, le changemen...</td>\n",
              "      <td>0.536594</td>\n",
              "      <td>2</td>\n",
              "      <td>sad: 0.0032, fear: 0.0024, anger: 0.0023, neut...</td>\n",
              "      <td>0.5575</td>\n",
              "      <td>13.070159</td>\n",
              "      <td>joy</td>\n",
              "      <td>2</td>\n",
              "      <td>3</td>\n",
              "      <td>3</td>\n",
              "    </tr>\n",
              "    <tr>\n",
              "      <th>2335</th>\n",
              "      <td>2335</td>\n",
              "      <td>toscin_Le_rechauffement_climatique_est_un_nouv...</td>\n",
              "      <td>Et après, en tout cas, merci d'être là ce mati...</td>\n",
              "      <td>0.862050</td>\n",
              "      <td>3</td>\n",
              "      <td>sad: 0.0042, fear: 0.0009, anger: 0.0012, neut...</td>\n",
              "      <td>0.8725</td>\n",
              "      <td>20.316180</td>\n",
              "      <td>joy</td>\n",
              "      <td>3</td>\n",
              "      <td>3</td>\n",
              "      <td>3</td>\n",
              "    </tr>\n",
              "    <tr>\n",
              "      <th>2373</th>\n",
              "      <td>2373</td>\n",
              "      <td>tvl_benoit_rittaud.txt</td>\n",
              "      <td>Je mentionne dans mon ouvrage un appel qui a é...</td>\n",
              "      <td>0.517273</td>\n",
              "      <td>2</td>\n",
              "      <td>sad: 0.5173, fear: 0.0207, anger: 0.4191, neut...</td>\n",
              "      <td>0.9666</td>\n",
              "      <td>6.141685</td>\n",
              "      <td>sad</td>\n",
              "      <td>2</td>\n",
              "      <td>3</td>\n",
              "      <td>3</td>\n",
              "    </tr>\n",
              "    <tr>\n",
              "      <th>2397</th>\n",
              "      <td>2397</td>\n",
              "      <td>yves_roucaute_sur_cnews_raphael_dragonneau.txt</td>\n",
              "      <td>C'est absolument incroyable, c'est fascinant c...</td>\n",
              "      <td>0.743721</td>\n",
              "      <td>2</td>\n",
              "      <td>sad: 0.0263, fear: 0.0498, anger: 0.0366, neut...</td>\n",
              "      <td>0.9264</td>\n",
              "      <td>28.496339</td>\n",
              "      <td>surprise</td>\n",
              "      <td>3</td>\n",
              "      <td>3</td>\n",
              "      <td>3</td>\n",
              "    </tr>\n",
              "  </tbody>\n",
              "</table>\n",
              "<p>176 rows × 12 columns</p>\n",
              "</div>\n",
              "    <div class=\"colab-df-buttons\">\n",
              "\n",
              "  <div class=\"colab-df-container\">\n",
              "    <button class=\"colab-df-convert\" onclick=\"convertToInteractive('df-084b4527-1aa0-498a-9459-9e08f32af2b6')\"\n",
              "            title=\"Convert this dataframe to an interactive table.\"\n",
              "            style=\"display:none;\">\n",
              "\n",
              "  <svg xmlns=\"http://www.w3.org/2000/svg\" height=\"24px\" viewBox=\"0 -960 960 960\">\n",
              "    <path d=\"M120-120v-720h720v720H120Zm60-500h600v-160H180v160Zm220 220h160v-160H400v160Zm0 220h160v-160H400v160ZM180-400h160v-160H180v160Zm440 0h160v-160H620v160ZM180-180h160v-160H180v160Zm440 0h160v-160H620v160Z\"/>\n",
              "  </svg>\n",
              "    </button>\n",
              "\n",
              "  <style>\n",
              "    .colab-df-container {\n",
              "      display:flex;\n",
              "      gap: 12px;\n",
              "    }\n",
              "\n",
              "    .colab-df-convert {\n",
              "      background-color: #E8F0FE;\n",
              "      border: none;\n",
              "      border-radius: 50%;\n",
              "      cursor: pointer;\n",
              "      display: none;\n",
              "      fill: #1967D2;\n",
              "      height: 32px;\n",
              "      padding: 0 0 0 0;\n",
              "      width: 32px;\n",
              "    }\n",
              "\n",
              "    .colab-df-convert:hover {\n",
              "      background-color: #E2EBFA;\n",
              "      box-shadow: 0px 1px 2px rgba(60, 64, 67, 0.3), 0px 1px 3px 1px rgba(60, 64, 67, 0.15);\n",
              "      fill: #174EA6;\n",
              "    }\n",
              "\n",
              "    .colab-df-buttons div {\n",
              "      margin-bottom: 4px;\n",
              "    }\n",
              "\n",
              "    [theme=dark] .colab-df-convert {\n",
              "      background-color: #3B4455;\n",
              "      fill: #D2E3FC;\n",
              "    }\n",
              "\n",
              "    [theme=dark] .colab-df-convert:hover {\n",
              "      background-color: #434B5C;\n",
              "      box-shadow: 0px 1px 3px 1px rgba(0, 0, 0, 0.15);\n",
              "      filter: drop-shadow(0px 1px 2px rgba(0, 0, 0, 0.3));\n",
              "      fill: #FFFFFF;\n",
              "    }\n",
              "  </style>\n",
              "\n",
              "    <script>\n",
              "      const buttonEl =\n",
              "        document.querySelector('#df-084b4527-1aa0-498a-9459-9e08f32af2b6 button.colab-df-convert');\n",
              "      buttonEl.style.display =\n",
              "        google.colab.kernel.accessAllowed ? 'block' : 'none';\n",
              "\n",
              "      async function convertToInteractive(key) {\n",
              "        const element = document.querySelector('#df-084b4527-1aa0-498a-9459-9e08f32af2b6');\n",
              "        const dataTable =\n",
              "          await google.colab.kernel.invokeFunction('convertToInteractive',\n",
              "                                                    [key], {});\n",
              "        if (!dataTable) return;\n",
              "\n",
              "        const docLinkHtml = 'Like what you see? Visit the ' +\n",
              "          '<a target=\"_blank\" href=https://colab.research.google.com/notebooks/data_table.ipynb>data table notebook</a>'\n",
              "          + ' to learn more about interactive tables.';\n",
              "        element.innerHTML = '';\n",
              "        dataTable['output_type'] = 'display_data';\n",
              "        await google.colab.output.renderOutput(dataTable, element);\n",
              "        const docLink = document.createElement('div');\n",
              "        docLink.innerHTML = docLinkHtml;\n",
              "        element.appendChild(docLink);\n",
              "      }\n",
              "    </script>\n",
              "  </div>\n",
              "\n",
              "\n",
              "    <div id=\"df-5bd83dae-5206-4442-91dd-ca74ba09839d\">\n",
              "      <button class=\"colab-df-quickchart\" onclick=\"quickchart('df-5bd83dae-5206-4442-91dd-ca74ba09839d')\"\n",
              "                title=\"Suggest charts\"\n",
              "                style=\"display:none;\">\n",
              "\n",
              "<svg xmlns=\"http://www.w3.org/2000/svg\" height=\"24px\"viewBox=\"0 0 24 24\"\n",
              "     width=\"24px\">\n",
              "    <g>\n",
              "        <path d=\"M19 3H5c-1.1 0-2 .9-2 2v14c0 1.1.9 2 2 2h14c1.1 0 2-.9 2-2V5c0-1.1-.9-2-2-2zM9 17H7v-7h2v7zm4 0h-2V7h2v10zm4 0h-2v-4h2v4z\"/>\n",
              "    </g>\n",
              "</svg>\n",
              "      </button>\n",
              "\n",
              "<style>\n",
              "  .colab-df-quickchart {\n",
              "      --bg-color: #E8F0FE;\n",
              "      --fill-color: #1967D2;\n",
              "      --hover-bg-color: #E2EBFA;\n",
              "      --hover-fill-color: #174EA6;\n",
              "      --disabled-fill-color: #AAA;\n",
              "      --disabled-bg-color: #DDD;\n",
              "  }\n",
              "\n",
              "  [theme=dark] .colab-df-quickchart {\n",
              "      --bg-color: #3B4455;\n",
              "      --fill-color: #D2E3FC;\n",
              "      --hover-bg-color: #434B5C;\n",
              "      --hover-fill-color: #FFFFFF;\n",
              "      --disabled-bg-color: #3B4455;\n",
              "      --disabled-fill-color: #666;\n",
              "  }\n",
              "\n",
              "  .colab-df-quickchart {\n",
              "    background-color: var(--bg-color);\n",
              "    border: none;\n",
              "    border-radius: 50%;\n",
              "    cursor: pointer;\n",
              "    display: none;\n",
              "    fill: var(--fill-color);\n",
              "    height: 32px;\n",
              "    padding: 0;\n",
              "    width: 32px;\n",
              "  }\n",
              "\n",
              "  .colab-df-quickchart:hover {\n",
              "    background-color: var(--hover-bg-color);\n",
              "    box-shadow: 0 1px 2px rgba(60, 64, 67, 0.3), 0 1px 3px 1px rgba(60, 64, 67, 0.15);\n",
              "    fill: var(--button-hover-fill-color);\n",
              "  }\n",
              "\n",
              "  .colab-df-quickchart-complete:disabled,\n",
              "  .colab-df-quickchart-complete:disabled:hover {\n",
              "    background-color: var(--disabled-bg-color);\n",
              "    fill: var(--disabled-fill-color);\n",
              "    box-shadow: none;\n",
              "  }\n",
              "\n",
              "  .colab-df-spinner {\n",
              "    border: 2px solid var(--fill-color);\n",
              "    border-color: transparent;\n",
              "    border-bottom-color: var(--fill-color);\n",
              "    animation:\n",
              "      spin 1s steps(1) infinite;\n",
              "  }\n",
              "\n",
              "  @keyframes spin {\n",
              "    0% {\n",
              "      border-color: transparent;\n",
              "      border-bottom-color: var(--fill-color);\n",
              "      border-left-color: var(--fill-color);\n",
              "    }\n",
              "    20% {\n",
              "      border-color: transparent;\n",
              "      border-left-color: var(--fill-color);\n",
              "      border-top-color: var(--fill-color);\n",
              "    }\n",
              "    30% {\n",
              "      border-color: transparent;\n",
              "      border-left-color: var(--fill-color);\n",
              "      border-top-color: var(--fill-color);\n",
              "      border-right-color: var(--fill-color);\n",
              "    }\n",
              "    40% {\n",
              "      border-color: transparent;\n",
              "      border-right-color: var(--fill-color);\n",
              "      border-top-color: var(--fill-color);\n",
              "    }\n",
              "    60% {\n",
              "      border-color: transparent;\n",
              "      border-right-color: var(--fill-color);\n",
              "    }\n",
              "    80% {\n",
              "      border-color: transparent;\n",
              "      border-right-color: var(--fill-color);\n",
              "      border-bottom-color: var(--fill-color);\n",
              "    }\n",
              "    90% {\n",
              "      border-color: transparent;\n",
              "      border-bottom-color: var(--fill-color);\n",
              "    }\n",
              "  }\n",
              "</style>\n",
              "\n",
              "      <script>\n",
              "        async function quickchart(key) {\n",
              "          const quickchartButtonEl =\n",
              "            document.querySelector('#' + key + ' button');\n",
              "          quickchartButtonEl.disabled = true;  // To prevent multiple clicks.\n",
              "          quickchartButtonEl.classList.add('colab-df-spinner');\n",
              "          try {\n",
              "            const charts = await google.colab.kernel.invokeFunction(\n",
              "                'suggestCharts', [key], {});\n",
              "          } catch (error) {\n",
              "            console.error('Error during call to suggestCharts:', error);\n",
              "          }\n",
              "          quickchartButtonEl.classList.remove('colab-df-spinner');\n",
              "          quickchartButtonEl.classList.add('colab-df-quickchart-complete');\n",
              "        }\n",
              "        (() => {\n",
              "          let quickchartButtonEl =\n",
              "            document.querySelector('#df-5bd83dae-5206-4442-91dd-ca74ba09839d button');\n",
              "          quickchartButtonEl.style.display =\n",
              "            google.colab.kernel.accessAllowed ? 'block' : 'none';\n",
              "        })();\n",
              "      </script>\n",
              "    </div>\n",
              "\n",
              "  <div id=\"id_048cfe14-e9a6-4047-8219-10ccfea58ba3\">\n",
              "    <style>\n",
              "      .colab-df-generate {\n",
              "        background-color: #E8F0FE;\n",
              "        border: none;\n",
              "        border-radius: 50%;\n",
              "        cursor: pointer;\n",
              "        display: none;\n",
              "        fill: #1967D2;\n",
              "        height: 32px;\n",
              "        padding: 0 0 0 0;\n",
              "        width: 32px;\n",
              "      }\n",
              "\n",
              "      .colab-df-generate:hover {\n",
              "        background-color: #E2EBFA;\n",
              "        box-shadow: 0px 1px 2px rgba(60, 64, 67, 0.3), 0px 1px 3px 1px rgba(60, 64, 67, 0.15);\n",
              "        fill: #174EA6;\n",
              "      }\n",
              "\n",
              "      [theme=dark] .colab-df-generate {\n",
              "        background-color: #3B4455;\n",
              "        fill: #D2E3FC;\n",
              "      }\n",
              "\n",
              "      [theme=dark] .colab-df-generate:hover {\n",
              "        background-color: #434B5C;\n",
              "        box-shadow: 0px 1px 3px 1px rgba(0, 0, 0, 0.15);\n",
              "        filter: drop-shadow(0px 1px 2px rgba(0, 0, 0, 0.3));\n",
              "        fill: #FFFFFF;\n",
              "      }\n",
              "    </style>\n",
              "    <button class=\"colab-df-generate\" onclick=\"generateWithVariable('df_score_eleve')\"\n",
              "            title=\"Generate code using this dataframe.\"\n",
              "            style=\"display:none;\">\n",
              "\n",
              "  <svg xmlns=\"http://www.w3.org/2000/svg\" height=\"24px\"viewBox=\"0 0 24 24\"\n",
              "       width=\"24px\">\n",
              "    <path d=\"M7,19H8.4L18.45,9,17,7.55,7,17.6ZM5,21V16.75L18.45,3.32a2,2,0,0,1,2.83,0l1.4,1.43a1.91,1.91,0,0,1,.58,1.4,1.91,1.91,0,0,1-.58,1.4L9.25,21ZM18.45,9,17,7.55Zm-12,3A5.31,5.31,0,0,0,4.9,8.1,5.31,5.31,0,0,0,1,6.5,5.31,5.31,0,0,0,4.9,4.9,5.31,5.31,0,0,0,6.5,1,5.31,5.31,0,0,0,8.1,4.9,5.31,5.31,0,0,0,12,6.5,5.46,5.46,0,0,0,6.5,12Z\"/>\n",
              "  </svg>\n",
              "    </button>\n",
              "    <script>\n",
              "      (() => {\n",
              "      const buttonEl =\n",
              "        document.querySelector('#id_048cfe14-e9a6-4047-8219-10ccfea58ba3 button.colab-df-generate');\n",
              "      buttonEl.style.display =\n",
              "        google.colab.kernel.accessAllowed ? 'block' : 'none';\n",
              "\n",
              "      buttonEl.onclick = () => {\n",
              "        google.colab.notebook.generateWithVariable('df_score_eleve');\n",
              "      }\n",
              "      })();\n",
              "    </script>\n",
              "  </div>\n",
              "\n",
              "    </div>\n",
              "  </div>\n"
            ],
            "application/vnd.google.colaboratory.intrinsic+json": {
              "type": "dataframe",
              "variable_name": "df_score_eleve",
              "summary": "{\n  \"name\": \"df_score_eleve\",\n  \"rows\": 176,\n  \"fields\": [\n    {\n      \"column\": \"Unnamed: 0\",\n      \"properties\": {\n        \"dtype\": \"number\",\n        \"std\": 668,\n        \"min\": 1,\n        \"max\": 2397,\n        \"num_unique_values\": 176,\n        \"samples\": [\n          329,\n          695,\n          1926\n        ],\n        \"semantic_type\": \"\",\n        \"description\": \"\"\n      }\n    },\n    {\n      \"column\": \"title\",\n      \"properties\": {\n        \"dtype\": \"category\",\n        \"num_unique_values\": 64,\n        \"samples\": [\n          \"resilients_tv_eric_verecchia.txt\",\n          \"tocsin_media_daniel_husson.txt\",\n          \"climat_corona_et_caetera_henri_de_lesquen.txt\"\n        ],\n        \"semantic_type\": \"\",\n        \"description\": \"\"\n      }\n    },\n    {\n      \"column\": \"content\",\n      \"properties\": {\n        \"dtype\": \"string\",\n        \"num_unique_values\": 170,\n        \"samples\": [\n          \"Fait int\\u00e9ressant, malgr\\u00e9 la propagande cataclysmique sur la disparition des Maldives sous les eaux qu'on nous annonce depuis des d\\u00e9cennies, en r\\u00e9alit\\u00e9 il appara\\u00eet autant de surface d'\\u00eeles qu'il en dispara\\u00eet et l'investissement h\\u00f4telier aux Maldives est estim\\u00e9 \\u00e0 518 milliards de dollars et projet\\u00e9 \\u00e0 864 milliards de dollars d'ici 2028 : bizarre pour une \\u00eele qui va dispara\\u00eetre depuis il y a des d\\u00e9cennies. Je me demande qui croire entre les menteurs pathologiques du climat et les investisseurs milliardaires, leurs banquiers, leurs assurances, qui, visiblement, n'en ont rien \\u00e0 faire. Ah, attendez, on m'annonce dans l'oreillette que, ah, oui, voil\\u00e0, ce serait les m\\u00eames personnes, en fait, un peu comme Obama, Bill Gates et toutes leur clique, qui ont des villas \\u00e0 des dizaines de millions au bord des c\\u00f4tes, qu'ils annoncent pourtant bient\\u00f4t sous les eaux. Int\\u00e9ressant, comme toujours, d\\u00e9roulons l'axe temporel. Cette figure pr\\u00e9sente les estimations g\\u00e9ologiques de l'\\u00e9volution du niveau de la mer durant les 400 000 derni\\u00e8res ann\\u00e9es. En raison de cycles tr\\u00e8s lents, li\\u00e9s aux variations de l'orbite de la Terre et de l'inclinaison de son axe, le rayonnement solaire absorb\\u00e9 varie quantitativement, donnant lieu \\u00e0 une alternance entre une p\\u00e9riode de glaciation qui dure 100 000 ans et une p\\u00e9riode interglaciaire de 20 000 ans. Ainsi, dans une p\\u00e9riode d'environ 120 000 ans, le niveau des eaux passe de -120 m \\u00e0 +6 m par rapport \\u00e0 aujourd'hui. Peut-\\u00eatre d\\u00e9couvrirons-nous l'empire perdu de l'Atlantide d'ici 20 000 ans.\",\n          \"Moi, je vous rappelle suite \\u00e0 l'intervention du Dr que vous avez re\\u00e7u entre-temps. Donc, voil\\u00e0, vous savez pas voter non. Du coup, moi, je suis beaucoup toute cette actualit\\u00e9, parce que je trouve \\u00e7a passionnant, pas toujours une autre fa\\u00e7on. Et du coup, c'\\u00e9tait tomb\\u00e9 sur un article qui a \\u00e9t\\u00e9 \\u00e9dit\\u00e9 quelque part, en championnat, date le 18 juin 2015, dans un journal am\\u00e9ricain qui s'appelle The Eastern Outlook. Et j'y vais vomir juste l'entr\\u00e9e en mati\\u00e8re. Donc, c'est \\u00e0 Mme Schick, signer vos gars rentrent en faire un aveu. Ce conte de limiteurs de The Lancet, la revue m\\u00e9dicale, \\u00e0 plus de style, mon monde a \\u00e9t\\u00e9 pratiquement ignor\\u00e9 par la grande presse et les m\\u00e9dias dominants. Et dit le Dr Richard Horton, r\\u00e9dacteur en chef de The Lancet, a r\\u00e9cemment fait une annonce disant qu'un nombre scandaleux de publications d'\\u00e9tudes sont toutes mensong\\u00e8res, quand elles ne sont pas compl\\u00e8tement mensong\\u00e8res, en plus de contenu.\",\n          \"Je veux dire que les gens ont pu prendre \\u00e7a pour argent comptant, \\u00e7a montre de nouveau le c\\u00f4t\\u00e9 id\\u00e9ologico-politique. Voil\\u00e0, je termine avec, mais, mais, alors, peut-\\u00eatre une question qui me vient, comment vous est-ce que vous expliquez que de telles inepties soient \\u00e0 ce point accept\\u00e9es dans la soci\\u00e9t\\u00e9 sans aucune critique, sans aucun regard critique ? C'est vraiment, on nous donne, je prends, je valide, et puis on passe \\u00e0 autre chose. \\u00c0 des enfants, on pourrait le comprendre, mais l\\u00e0, des adultes, il est vrai que je trouve cela surprenant. C'est surprenant, mais si on prend l'exemple du secr\\u00e9taire \\u00e0 l'environnement dont je viens de parler, c'est quelqu'un qui est d\\u00e9j\\u00e0 du s\\u00e9rail, qui est d\\u00e9j\\u00e0 par le reste, il est convaincu, alors \\u00e7a lui apporte des confirmations suppl\\u00e9mentaires. Et puis, les erreurs que j'ai mentionn\\u00e9es ici, que les ours polaires disparaissent, alors que leur population a \\u00e9t\\u00e9 tripl\\u00e9e dans les 50-60 derni\\u00e8res ann\\u00e9es, Susan Crockford, qui \\u00e9tait sp\\u00e9cialiste num\\u00e9ro 1 des ours polaires, toutes ces \\u00e9tudes sont disponibles. Donc, les gens ne pouvaient pas savoir \\u00e7a, peuvent penser, bon, le passage que j'ai cit\\u00e9, caricatural, mais il y a d'autres passages qui sont plausibles, quand on n'a pas de connaissance scientifique et qu'on fait confiance aux gens qui nous les pr\\u00e9sentent. Je pense que c'est \\u00e7a.\\\" Voil\\u00e0 comment je vois votre question, oui, tout \\u00e0 fait.\"\n        ],\n        \"semantic_type\": \"\",\n        \"description\": \"\"\n      }\n    },\n    {\n      \"column\": \"score\",\n      \"properties\": {\n        \"dtype\": \"number\",\n        \"std\": 0.18158687232434606,\n        \"min\": 0.329626590013504,\n        \"max\": 0.9973479509353638,\n        \"num_unique_values\": 170,\n        \"samples\": [\n          0.6515858173370361,\n          0.6995134949684143,\n          0.5107331871986389\n        ],\n        \"semantic_type\": \"\",\n        \"description\": \"\"\n      }\n    },\n    {\n      \"column\": \"score_echelle\",\n      \"properties\": {\n        \"dtype\": \"number\",\n        \"std\": 0,\n        \"min\": 1,\n        \"max\": 3,\n        \"num_unique_values\": 3,\n        \"samples\": [\n          2,\n          1,\n          3\n        ],\n        \"semantic_type\": \"\",\n        \"description\": \"\"\n      }\n    },\n    {\n      \"column\": \"score_par_label\",\n      \"properties\": {\n        \"dtype\": \"string\",\n        \"num_unique_values\": 170,\n        \"samples\": [\n          \"sad: 0.2509, fear: 0.0201, anger: 0.6516, neutral: 0.0459, surprise: 0.0285, joy: 0.0031\",\n          \"sad: 0.2889, fear: 0.0038, anger: 0.6995, neutral: 0.0037, surprise: 0.0028, joy: 0.0013\",\n          \"sad: 0.0811, fear: 0.1094, anger: 0.1133, neutral: 0.1789, surprise: 0.5107, joy: 0.0065\"\n        ],\n        \"semantic_type\": \"\",\n        \"description\": \"\"\n      }\n    },\n    {\n      \"column\": \"sum_without_neutral\",\n      \"properties\": {\n        \"dtype\": \"number\",\n        \"std\": 0.2907146302011424,\n        \"min\": 0.0168,\n        \"max\": 0.9991,\n        \"num_unique_values\": 154,\n        \"samples\": [\n          0.9704,\n          0.9524,\n          0.8724999999999999\n        ],\n        \"semantic_type\": \"\",\n        \"description\": \"\"\n      }\n    },\n    {\n      \"column\": \"sum_recalibree\",\n      \"properties\": {\n        \"dtype\": \"number\",\n        \"std\": 10.548360509598119,\n        \"min\": 0.269815121368937,\n        \"max\": 33.43539455190518,\n        \"num_unique_values\": 170,\n        \"samples\": [\n          5.686174359061315,\n          4.612860674821641,\n          22.13061979626345\n        ],\n        \"semantic_type\": \"\",\n        \"description\": \"\"\n      }\n    },\n    {\n      \"column\": \"label_dominant\",\n      \"properties\": {\n        \"dtype\": \"category\",\n        \"num_unique_values\": 6,\n        \"samples\": [\n          \"anger\",\n          \"surprise\",\n          \"fear\"\n        ],\n        \"semantic_type\": \"\",\n        \"description\": \"\"\n      }\n    },\n    {\n      \"column\": \"intensite_emotion\",\n      \"properties\": {\n        \"dtype\": \"number\",\n        \"std\": 0,\n        \"min\": 1,\n        \"max\": 3,\n        \"num_unique_values\": 3,\n        \"samples\": [\n          2,\n          3,\n          1\n        ],\n        \"semantic_type\": \"\",\n        \"description\": \"\"\n      }\n    },\n    {\n      \"column\": \"score_vf\",\n      \"properties\": {\n        \"dtype\": \"number\",\n        \"std\": 0,\n        \"min\": 3,\n        \"max\": 3,\n        \"num_unique_values\": 1,\n        \"samples\": [\n          3\n        ],\n        \"semantic_type\": \"\",\n        \"description\": \"\"\n      }\n    },\n    {\n      \"column\": \"expertise_gpt4\",\n      \"properties\": {\n        \"dtype\": \"number\",\n        \"std\": 0,\n        \"min\": 3,\n        \"max\": 3,\n        \"num_unique_values\": 1,\n        \"samples\": [\n          3\n        ],\n        \"semantic_type\": \"\",\n        \"description\": \"\"\n      }\n    }\n  ]\n}"
            }
          },
          "metadata": {},
          "execution_count": 56
        }
      ]
    },
    {
      "cell_type": "markdown",
      "source": [
        "9. **Calculer le pourcentage de segments qui combinent des scores hauts pour les deux dimensions linguistiques étudiées :**"
      ],
      "metadata": {
        "id": "VHn7NhwnWJsG"
      }
    },
    {
      "cell_type": "code",
      "source": [
        "mon_fichier[\"score_vf\"] = pd.to_numeric(mon_fichier[\"score_vf\"], errors=\"coerce\")\n",
        "mon_fichier[\"expertise_gpt4\"] = pd.to_numeric(mon_fichier[\"expertise_gpt4\"], errors=\"coerce\")\n",
        "\n",
        "df_both3 = mon_fichier[(mon_fichier[\"score_vf\"] == 3) & (mon_fichier[\"expertise_gpt4\"] == 3)]\n",
        "\n",
        "# Nombre de segments concernés\n",
        "nb_both3 = len(df_both3)\n",
        "\n",
        "# Nombre total de segments\n",
        "nb_total = len(mon_fichier)\n",
        "\n",
        "# Pourcentage\n",
        "pourcentage = (nb_both3 / nb_total) * 100\n",
        "\n",
        "print(f\"Nombre de segments avec émotion=3 et expertise=3 : {nb_both3}\")\n",
        "print(f\"Nombre total de segments : {nb_total}\")\n",
        "print(f\"Pourcentage : {pourcentage:.2f}%\")"
      ],
      "metadata": {
        "colab": {
          "base_uri": "https://localhost:8080/"
        },
        "id": "sHwrTDGrWU4k",
        "outputId": "e4498033-f9bf-4942-b877-42b316a2dc59"
      },
      "execution_count": 47,
      "outputs": [
        {
          "output_type": "stream",
          "name": "stdout",
          "text": [
            "Nombre de segments avec émotion=3 et expertise=3 : 176\n",
            "Nombre total de segments : 2398\n",
            "Pourcentage : 7.34%\n"
          ]
        }
      ]
    },
    {
      "cell_type": "markdown",
      "source": [
        "10. **Pour visualiser le nombre de discours qui ne comprennent pas de segment annoté 3 : **"
      ],
      "metadata": {
        "id": "byKYQwa_baIB"
      }
    },
    {
      "cell_type": "code",
      "source": [
        "# Grouper par titre et vérifier si au moins un segment a score=3\n",
        "discours_sans_3 = mon_fichier.groupby(\"title\")[\"score_vf\"].apply(lambda x: (x == 3).sum() == 0)\n",
        "\n",
        "# Comptage\n",
        "nb_sans3 = discours_sans_3.sum()  # nb de discours sans aucun 3\n",
        "nb_total_discours = discours_sans_3.shape[0]\n",
        "\n",
        "# Pourcentage\n",
        "pourcentage_sans3 = (nb_sans3 / nb_total_discours) * 100 if nb_total_discours > 0 else 0\n",
        "\n",
        "print(f\"Nombre de discours sans score émotionnel = 3 : {nb_sans3}\")\n",
        "print(f\"Nombre total de discours : {nb_total_discours}\")\n",
        "print(f\"Pourcentage : {pourcentage_sans3:.2f}%\")\n"
      ],
      "metadata": {
        "colab": {
          "base_uri": "https://localhost:8080/"
        },
        "id": "zpyHN38Yb78s",
        "outputId": "6c4675cf-7afc-4045-8b5d-3e0533032bdf"
      },
      "execution_count": 49,
      "outputs": [
        {
          "output_type": "stream",
          "name": "stdout",
          "text": [
            "Nombre de discours sans score émotionnel = 3 : 38\n",
            "Nombre total de discours : 115\n",
            "Pourcentage : 33.04%\n"
          ]
        }
      ]
    },
    {
      "cell_type": "markdown",
      "source": [
        "11. **Afficher aussi le nombre de discours sans score émotionnel sans 2 ni 3 :**"
      ],
      "metadata": {
        "id": "kqMcztu2deTZ"
      }
    },
    {
      "cell_type": "code",
      "source": [
        "# Vérifier quels discours ont uniquement des scores émotionnels = 1\n",
        "discours_tout_1 = mon_fichier.groupby(\"title\")[\"score_vf\"].apply(lambda x: (x.astype(float) == 1).all())\n",
        "\n",
        "# Extraire les titres\n",
        "titres_tout_1 = discours_tout_1[discours_tout_1].index.tolist()\n",
        "\n",
        "print(\"Titres des discours avec uniquement score émotionnel = 1 :\")\n",
        "for t in titres_tout_1:\n",
        "    print(\"-\", t)\n",
        "\n",
        "print(f\"\\nNombre de discours avec uniquement score émotionnel = 1 : {len(titres_tout_1)}\")\n"
      ],
      "metadata": {
        "colab": {
          "base_uri": "https://localhost:8080/"
        },
        "id": "rSWzUvOSdhd7",
        "outputId": "d669edaa-b8fc-48d5-c4b9-910612451d2c"
      },
      "execution_count": 50,
      "outputs": [
        {
          "output_type": "stream",
          "name": "stdout",
          "text": [
            "Titres des discours avec uniquement score émotionnel = 1 :\n",
            "- dme_en_direct_L'ecologie_la_Plus_Grande_Arnaque_du_Siècle.txt\n",
            "- on_nous_aurait_menti_sur_le_co2_hacine_dz.txt\n",
            "\n",
            "Nombre de discours avec uniquement score émotionnel = 1 : 2\n"
          ]
        }
      ]
    }
  ]
}